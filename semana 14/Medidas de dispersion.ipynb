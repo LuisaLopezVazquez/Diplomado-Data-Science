{
 "cells": [
  {
   "cell_type": "code",
   "execution_count": 1,
   "id": "c5a5ad21-16ac-457d-9175-9eb13d2b7519",
   "metadata": {},
   "outputs": [
    {
     "data": {
      "text/html": [
       "<div>\n",
       "<style scoped>\n",
       "    .dataframe tbody tr th:only-of-type {\n",
       "        vertical-align: middle;\n",
       "    }\n",
       "\n",
       "    .dataframe tbody tr th {\n",
       "        vertical-align: top;\n",
       "    }\n",
       "\n",
       "    .dataframe thead th {\n",
       "        text-align: right;\n",
       "    }\n",
       "</style>\n",
       "<table border=\"1\" class=\"dataframe\">\n",
       "  <thead>\n",
       "    <tr style=\"text-align: right;\">\n",
       "      <th></th>\n",
       "      <th>sepal_length</th>\n",
       "      <th>sepal_width</th>\n",
       "      <th>petal_length</th>\n",
       "      <th>petal_width</th>\n",
       "      <th>species</th>\n",
       "    </tr>\n",
       "  </thead>\n",
       "  <tbody>\n",
       "    <tr>\n",
       "      <th>0</th>\n",
       "      <td>5.1</td>\n",
       "      <td>3.5</td>\n",
       "      <td>1.4</td>\n",
       "      <td>0.2</td>\n",
       "      <td>setosa</td>\n",
       "    </tr>\n",
       "    <tr>\n",
       "      <th>1</th>\n",
       "      <td>4.9</td>\n",
       "      <td>3.0</td>\n",
       "      <td>1.4</td>\n",
       "      <td>0.2</td>\n",
       "      <td>setosa</td>\n",
       "    </tr>\n",
       "    <tr>\n",
       "      <th>2</th>\n",
       "      <td>4.7</td>\n",
       "      <td>3.2</td>\n",
       "      <td>1.3</td>\n",
       "      <td>0.2</td>\n",
       "      <td>setosa</td>\n",
       "    </tr>\n",
       "    <tr>\n",
       "      <th>3</th>\n",
       "      <td>4.6</td>\n",
       "      <td>3.1</td>\n",
       "      <td>1.5</td>\n",
       "      <td>0.2</td>\n",
       "      <td>setosa</td>\n",
       "    </tr>\n",
       "    <tr>\n",
       "      <th>4</th>\n",
       "      <td>5.0</td>\n",
       "      <td>3.6</td>\n",
       "      <td>1.4</td>\n",
       "      <td>0.2</td>\n",
       "      <td>setosa</td>\n",
       "    </tr>\n",
       "    <tr>\n",
       "      <th>5</th>\n",
       "      <td>5.4</td>\n",
       "      <td>3.9</td>\n",
       "      <td>1.7</td>\n",
       "      <td>0.4</td>\n",
       "      <td>setosa</td>\n",
       "    </tr>\n",
       "    <tr>\n",
       "      <th>6</th>\n",
       "      <td>4.6</td>\n",
       "      <td>3.4</td>\n",
       "      <td>1.4</td>\n",
       "      <td>0.3</td>\n",
       "      <td>setosa</td>\n",
       "    </tr>\n",
       "    <tr>\n",
       "      <th>7</th>\n",
       "      <td>5.0</td>\n",
       "      <td>3.4</td>\n",
       "      <td>1.5</td>\n",
       "      <td>0.2</td>\n",
       "      <td>setosa</td>\n",
       "    </tr>\n",
       "    <tr>\n",
       "      <th>8</th>\n",
       "      <td>4.4</td>\n",
       "      <td>2.9</td>\n",
       "      <td>1.4</td>\n",
       "      <td>0.2</td>\n",
       "      <td>setosa</td>\n",
       "    </tr>\n",
       "    <tr>\n",
       "      <th>9</th>\n",
       "      <td>4.9</td>\n",
       "      <td>3.1</td>\n",
       "      <td>1.5</td>\n",
       "      <td>0.1</td>\n",
       "      <td>setosa</td>\n",
       "    </tr>\n",
       "  </tbody>\n",
       "</table>\n",
       "</div>"
      ],
      "text/plain": [
       "   sepal_length  sepal_width  petal_length  petal_width species\n",
       "0           5.1          3.5           1.4          0.2  setosa\n",
       "1           4.9          3.0           1.4          0.2  setosa\n",
       "2           4.7          3.2           1.3          0.2  setosa\n",
       "3           4.6          3.1           1.5          0.2  setosa\n",
       "4           5.0          3.6           1.4          0.2  setosa\n",
       "5           5.4          3.9           1.7          0.4  setosa\n",
       "6           4.6          3.4           1.4          0.3  setosa\n",
       "7           5.0          3.4           1.5          0.2  setosa\n",
       "8           4.4          2.9           1.4          0.2  setosa\n",
       "9           4.9          3.1           1.5          0.1  setosa"
      ]
     },
     "execution_count": 1,
     "metadata": {},
     "output_type": "execute_result"
    }
   ],
   "source": [
    "#Importar libreria \n",
    "import pandas as miPandita\n",
    "plantas = miPandita.read_csv(\"Iris.csv\")\n",
    "plantas.head(10)"
   ]
  },
  {
   "attachments": {
    "3d1418b4-114f-486a-bfe7-a68b5a885bf8.png": {
     "image/png": "[encoded data removed]"
    }
   },
   "cell_type": "markdown",
   "id": "5298b8ad-f922-48c6-a7af-e8663508abab",
   "metadata": {},
   "source": [
    "### Desviación media\n",
    "![imagen.png](attachment:3d1418b4-114f-486a-bfe7-a68b5a885bf8.png)\n",
    "\n",
    "Con pandas podemos calcular esta desviación media con el método .mad():"
   ]
  },
  {
   "cell_type": "code",
   "execution_count": 2,
   "id": "22e4fe67-5494-4e2c-b53d-df86c4aecd41",
   "metadata": {},
   "outputs": [
    {
     "data": {
      "text/plain": [
       "0.6875555555555561"
      ]
     },
     "execution_count": 2,
     "metadata": {},
     "output_type": "execute_result"
    }
   ],
   "source": [
    "#Obtener la media\n",
    "md=plantas[\"sepal_length\"].mad()\n",
    "md"
   ]
  },
  {
   "cell_type": "markdown",
   "id": "0ccb6b02-fa53-47b9-bdfd-79b5e08ef03b",
   "metadata": {},
   "source": [
    "### Varianza\n",
    "\n",
    "En vez de tomar el valor absoluto, podríamos elevar los desvíos al cuadrado. El resultado es lo que se conoce como Varianza y se representa con S2"
   ]
  },
  {
   "attachments": {
    "c2f55c3c-8db2-45bc-b1dc-4039a4e7ab14.png": {
     "image/png": "[encoded data removed]"
    }
   },
   "cell_type": "markdown",
   "id": "b2441416-d7c4-43b2-b623-858c554c0701",
   "metadata": {},
   "source": [
    "![imagen.png](attachment:c2f55c3c-8db2-45bc-b1dc-4039a4e7ab14.png)"
   ]
  },
  {
   "cell_type": "markdown",
   "id": "ae9eedb0-5400-402d-b52f-d250525e35d7",
   "metadata": {},
   "source": [
    "En python podemos calcular la cuasi-varianza utilizando el método var. Esta función también omite los valores faltantes, como con la media."
   ]
  },
  {
   "cell_type": "code",
   "execution_count": 3,
   "id": "852b4c4b-0311-47d7-86f9-8f535313d69f",
   "metadata": {},
   "outputs": [
    {
     "data": {
      "text/plain": [
       "0.6856935123042505"
      ]
     },
     "execution_count": 3,
     "metadata": {},
     "output_type": "execute_result"
    }
   ],
   "source": [
    "# Calular la varianza\n",
    "plantas[\"sepal_length\"].var()"
   ]
  },
  {
   "cell_type": "markdown",
   "id": "792e335a-85ad-4443-aa2d-6f5fa7c9c966",
   "metadata": {},
   "source": [
    "Si queremos calcular la varianza, utilizamos el argumento ddof=0. El denominador en la fórmula será entonces n−ddof=0."
   ]
  },
  {
   "cell_type": "code",
   "execution_count": 4,
   "id": "610970f0-5852-447e-883e-a3a9c3b96285",
   "metadata": {},
   "outputs": [
    {
     "data": {
      "text/plain": [
       "0.6811222222222222"
      ]
     },
     "execution_count": 4,
     "metadata": {},
     "output_type": "execute_result"
    }
   ],
   "source": [
    "#Calcular la varianza, utilizamos el argumento ddof=0\n",
    "plantas[\"sepal_length\"].var(ddof=0)"
   ]
  },
  {
   "attachments": {
    "88c10509-e97e-45c9-8c4c-7cd2ae26959b.png": {
     "image/png": "[encoded data removed]"
    }
   },
   "cell_type": "markdown",
   "id": "254b5748-8e89-4a17-a195-f4b356e70515",
   "metadata": {},
   "source": [
    "### Desviación típica\n",
    "Se obtiene con la raiz cuadrada de la varianza\n",
    "\n",
    "![imagen.png](attachment:88c10509-e97e-45c9-8c4c-7cd2ae26959b.png)\n"
   ]
  },
  {
   "cell_type": "code",
   "execution_count": 5,
   "id": "d43686f7-b9b8-4cc1-b0c0-a426d6f7776c",
   "metadata": {},
   "outputs": [
    {
     "data": {
      "text/plain": [
       "0.8280661279778629"
      ]
     },
     "execution_count": 5,
     "metadata": {},
     "output_type": "execute_result"
    }
   ],
   "source": [
    "# Obtener cuasi-desviación típica\n",
    "plantas[\"sepal_length\"].std()"
   ]
  },
  {
   "cell_type": "code",
   "execution_count": 6,
   "id": "2ed57221-1513-4449-a00d-749e09334651",
   "metadata": {},
   "outputs": [
    {
     "data": {
      "text/plain": [
       "0.8253012917851409"
      ]
     },
     "execution_count": 6,
     "metadata": {},
     "output_type": "execute_result"
    }
   ],
   "source": [
    "# Obtener desviación típica\n",
    "plantas[\"sepal_length\"].std(ddof=0)"
   ]
  },
  {
   "cell_type": "code",
   "execution_count": 8,
   "id": "d7f45aeb-ce7e-41d1-9904-77a02252fe81",
   "metadata": {},
   "outputs": [
    {
     "data": {
      "text/html": [
       "<div>\n",
       "<style scoped>\n",
       "    .dataframe tbody tr th:only-of-type {\n",
       "        vertical-align: middle;\n",
       "    }\n",
       "\n",
       "    .dataframe tbody tr th {\n",
       "        vertical-align: top;\n",
       "    }\n",
       "\n",
       "    .dataframe thead th {\n",
       "        text-align: right;\n",
       "    }\n",
       "</style>\n",
       "<table border=\"1\" class=\"dataframe\">\n",
       "  <thead>\n",
       "    <tr style=\"text-align: right;\">\n",
       "      <th></th>\n",
       "      <th>sepal_length</th>\n",
       "      <th>sepal_width</th>\n",
       "      <th>petal_length</th>\n",
       "      <th>petal_width</th>\n",
       "    </tr>\n",
       "  </thead>\n",
       "  <tbody>\n",
       "    <tr>\n",
       "      <th>sepal_length</th>\n",
       "      <td>1.000000</td>\n",
       "      <td>-0.117570</td>\n",
       "      <td>0.871754</td>\n",
       "      <td>0.817941</td>\n",
       "    </tr>\n",
       "    <tr>\n",
       "      <th>sepal_width</th>\n",
       "      <td>-0.117570</td>\n",
       "      <td>1.000000</td>\n",
       "      <td>-0.428440</td>\n",
       "      <td>-0.366126</td>\n",
       "    </tr>\n",
       "    <tr>\n",
       "      <th>petal_length</th>\n",
       "      <td>0.871754</td>\n",
       "      <td>-0.428440</td>\n",
       "      <td>1.000000</td>\n",
       "      <td>0.962865</td>\n",
       "    </tr>\n",
       "    <tr>\n",
       "      <th>petal_width</th>\n",
       "      <td>0.817941</td>\n",
       "      <td>-0.366126</td>\n",
       "      <td>0.962865</td>\n",
       "      <td>1.000000</td>\n",
       "    </tr>\n",
       "  </tbody>\n",
       "</table>\n",
       "</div>"
      ],
      "text/plain": [
       "              sepal_length  sepal_width  petal_length  petal_width\n",
       "sepal_length      1.000000    -0.117570      0.871754     0.817941\n",
       "sepal_width      -0.117570     1.000000     -0.428440    -0.366126\n",
       "petal_length      0.871754    -0.428440      1.000000     0.962865\n",
       "petal_width       0.817941    -0.366126      0.962865     1.000000"
      ]
     },
     "execution_count": 8,
     "metadata": {},
     "output_type": "execute_result"
    }
   ],
   "source": [
    "#Obtner el coeficiente de pearson entre la correlación de los distintos tipos de petalo de las palnatas\n",
    "plantas.corr()"
   ]
  },
  {
   "cell_type": "markdown",
   "id": "1138f4f2-f928-4169-a59b-2e3488ff2e2e",
   "metadata": {},
   "source": [
    "Conclusión\n",
    "Las medidas de dispersión no son muy populares fuera de las clases de estadística por la complejidad de su interpretación, pero son necesarias al tratar de resumir las características de un conjunto de datos en unos pocos números."
   ]
  },
  {
   "cell_type": "code",
   "execution_count": null,
   "id": "d793c955-667c-4b1d-90d1-fb6bcd076307",
   "metadata": {},
   "outputs": [],
   "source": []
  }
 ],
 "metadata": {
  "kernelspec": {
   "display_name": "Python 3 (ipykernel)",
   "language": "python",
   "name": "python3"
  },
  "language_info": {
   "codemirror_mode": {
    "name": "ipython",
    "version": 3
   },
   "file_extension": ".py",
   "mimetype": "text/x-python",
   "name": "python",
   "nbconvert_exporter": "python",
   "pygments_lexer": "ipython3",
   "version": "3.9.12"
  }
 },
 "nbformat": 4,
 "nbformat_minor": 5
}
