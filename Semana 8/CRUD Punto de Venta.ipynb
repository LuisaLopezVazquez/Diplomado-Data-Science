{
 "cells": [
  {
   "cell_type": "code",
   "execution_count": 28,
   "id": "216929a5-e4f3-423e-b1ee-30740a917e60",
   "metadata": {},
   "outputs": [],
   "source": [
    "import sqlite3"
   ]
  },
  {
   "cell_type": "code",
   "execution_count": 30,
   "id": "bea394e4-bb38-46d8-86b8-4679b8ddb746",
   "metadata": {},
   "outputs": [],
   "source": [
    "#Abrir Conexion a la base datos\n",
    "conexion = sqlite3.connect('punto_venta.db')"
   ]
  },
  {
   "cell_type": "code",
   "execution_count": 31,
   "id": "7012f1ee-ecce-4afa-a1fc-92fb2a34da56",
   "metadata": {},
   "outputs": [],
   "source": [
    "#Crear un cursor\n",
    "cursor =conexion.cursor()"
   ]
  },
  {
   "cell_type": "code",
   "execution_count": 32,
   "id": "e3dbad63-3a3f-48e3-88c1-84844952cdb0",
   "metadata": {},
   "outputs": [],
   "source": [
    "#Hacemos el la consulta\n",
    "cursor.execute(\"select * from clientes\")\n",
    "clientes = cursor.fetall()#Muestra todos los registros"
   ]
  },
  {
   "cell_type": "code",
   "execution_count": 33,
   "id": "1c8e6491-a210-4ec6-b682-d1d28de98177",
   "metadata": {},
   "outputs": [
    {
     "data": {
      "text/plain": [
       "[(2122,\n",
       "  'Carlos',\n",
       "  'Torres',\n",
       "  'Mejia',\n",
       "  3230,\n",
       "  'Pantitlan',\n",
       "  '553498677',\n",
       "  'ctorres@gmail.com'),\n",
       " (2123,\n",
       "  'Carlos',\n",
       "  'Torres',\n",
       "  'Mejia',\n",
       "  3230,\n",
       "  'Pantitlan',\n",
       "  '553498677',\n",
       "  'ctorres@gmail.com'),\n",
       " (2124,\n",
       "  'Karla',\n",
       "  'Mondragon',\n",
       "  'Lopez',\n",
       "  15440,\n",
       "  'Venustiano Carranza',\n",
       "  '5567984572',\n",
       "  'kmondragon@gmail.com'),\n",
       " (2125,\n",
       "  'Camila',\n",
       "  'Torres',\n",
       "  'Pedroza',\n",
       "  8500,\n",
       "  'Agricola',\n",
       "  '55895612',\n",
       "  'ctorres@gmail.com')]"
      ]
     },
     "execution_count": 33,
     "metadata": {},
     "output_type": "execute_result"
    }
   ],
   "source": [
    "clientes"
   ]
  },
  {
   "cell_type": "code",
   "execution_count": 27,
   "id": "357ccf24-d82e-45fa-894a-67874363cdd2",
   "metadata": {},
   "outputs": [],
   "source": [
    "##Cerrar\n",
    "conexion.close()"
   ]
  },
  {
   "cell_type": "code",
   "execution_count": 26,
   "id": "b272903c-131a-4e3d-b0b1-10a7df85443a",
   "metadata": {},
   "outputs": [],
   "source": [
    "#Ingresa un registro\n",
    "conexion.execute(\"insert into clientes(id_cliente,nombre,apellido_paterno,apellido_materno,direccion,telefono,correo,codigo_postal) values(?,?,?,?,?,?,?,?)\", \n",
    "                 (2125,'Camila','Torres','Pedroza','Agricola','55895612','ctorres@gmail.com','08500') )\n",
    "#Guarda los cambios de nuestra conexion\n",
    "conexion.commit()"
   ]
  },
  {
   "cell_type": "code",
   "execution_count": 38,
   "id": "579d80bf-8be8-4997-82d2-5c6756b614e7",
   "metadata": {},
   "outputs": [],
   "source": [
    "#Update un registro\n",
    "conexion.execute(\"\"\"UPDATE clientes SET apellido_materno='Martinez' WHERE id_cliente=2125  \"\"\")\n",
    "#Guarda los cambios de nuestra conexion\n",
    "conexion.commit()"
   ]
  },
  {
   "cell_type": "code",
   "execution_count": 35,
   "id": "60d95541-51c4-4e32-a7c7-6a40e76ec11c",
   "metadata": {},
   "outputs": [],
   "source": [
    "#Cierra Conexión a la base de datos\n",
    "conexion.close()"
   ]
  },
  {
   "cell_type": "code",
   "execution_count": 37,
   "id": "6e6be9cf-49a3-4a98-965e-20e6c570d906",
   "metadata": {},
   "outputs": [],
   "source": [
    "conexion = sqlite3.connect('punto_venta.db')"
   ]
  },
  {
   "cell_type": "code",
   "execution_count": 40,
   "id": "770e03ad-fc0e-4041-ae3b-5030ffe1d170",
   "metadata": {},
   "outputs": [],
   "source": [
    "#Eliminar un registro\n",
    "conexion.execute(\"\"\" DELETE FROM clientes WHERE id_cliente=2125   \"\"\")\n",
    "#Guarda los cambios de nuestra conexion\n",
    "conexion.commit()"
   ]
  },
  {
   "cell_type": "code",
   "execution_count": 41,
   "id": "b7606e7a-dfe5-4ff4-9bfd-87036cf2f515",
   "metadata": {},
   "outputs": [],
   "source": [
    "#Cierra Conexión a la base de datos\n",
    "conexion.close()"
   ]
  },
  {
   "cell_type": "code",
   "execution_count": null,
   "id": "a13fde35-2b24-4c21-8d9e-2c9e217c5f9e",
   "metadata": {},
   "outputs": [],
   "source": []
  }
 ],
 "metadata": {
  "kernelspec": {
   "display_name": "Python 3 (ipykernel)",
   "language": "python",
   "name": "python3"
  },
  "language_info": {
   "codemirror_mode": {
    "name": "ipython",
    "version": 3
   },
   "file_extension": ".py",
   "mimetype": "text/x-python",
   "name": "python",
   "nbconvert_exporter": "python",
   "pygments_lexer": "ipython3",
   "version": "3.9.12"
  }
 },
 "nbformat": 4,
 "nbformat_minor": 5
}
