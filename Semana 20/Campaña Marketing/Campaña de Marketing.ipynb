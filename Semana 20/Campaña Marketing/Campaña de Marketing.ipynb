{
 "cells": [
  {
   "cell_type": "markdown",
   "metadata": {},
   "source": [
    "<h2><font color=\"#004D7F\" size=6>Módulo 4. Machine Learning</font></h2>\n",
    "\n",
    "\n",
    "\n",
    "<h1><font color=\"#004D7F\" size=5> Campaña de Marketing</font></h1>\n",
    "\n",
    "<br><br>\n",
    "<div style=\"text-align: right\">\n",
    "<font color=\"#004D7F\" size=3>Luisa López Vázquez</font><br>\n",
    "<font color=\"#004D7F\" size=3>Diplomado en Ciencia de Datos</font><br>"
   ]
  },
  {
   "cell_type": "markdown",
   "metadata": {},
   "source": [
    "# Seleccionar Filas"
   ]
  },
  {
   "cell_type": "markdown",
   "metadata": {},
   "source": [
    "Este es un conjunto de datos con información de 2,240 clientes que recibieron una campaña de Marketing. Algunas de las columnas más importantes son las siguientes:\n",
    "1. ID = Identificador único del cliente.\n",
    "2. Year_Birth = Año de nacimiento del cliente.\n",
    "3. Education = Nivel de educación del cliente.\n",
    "4. Marital_Status = Estado civil del cliente.\n",
    "5. Income = Ingreso familiar anual del cliente.\n",
    "6. Kidhome = Número de niños en el hogar del cliente.\n",
    "7. Teenhome = Número de adolescentes en el hogar del cliente.\n",
    "8. Dt_Customer = Fecha de inscripción del cliente en la empresa.\n",
    "9. Recency = Número de días desde la última compra.\n",
    "10. MntWines = Cantidad de vino consumido en los últimos dos años.\n",
    "11. MntFruits = Cantidad de fruta consumida en los últimos dos años.\n",
    "12. MntMeatProducts = Cantidad de carne consumida en los últimos dos años.\n",
    "13. MntFishProducts = Cantidad de pescado consumido en los últimos dos años.\n",
    "14. MntSweetProductos = Cantidad de dulces consumidos en los últimos dos años.\n",
    "15. MntGoldProds = Cantidad de oro consumidos en los últimos dos años.\n",
    "16. NumDealsPurchases = Número de compras realizadas con descuentos.\n",
    "17. NumWebPurchases = Número de compras realizadas en la página web.\n",
    "18. NumCatalogPurchases = Número de compras realizadas por catálogo.\n",
    "19. NumStorePurchases = Número de compras realizadas directamente en la tienda.\n",
    "20. NumWebVisitsMonth = Número de visitas a la página web en el último mes.\n",
    "21. AcceptedCmp3 = 1 si el cliente aceptó la oferta en la tercera campaña.\n",
    "22. AcceptedCmp4 = 1 si el cliente aceptó la oferta en la cuarta campaña.\n",
    "23. AcceptedCmp5 = 1 si el cliente aceptó la oferta en la quinta campaña.\n",
    "24. AcceptedCmp1 = 1 si el cliente aceptó la oferta en la primera campaña.\n",
    "25. AcceptedCmp2 = 1 si el cliente aceptó la oferta en la segunda campaña.\n",
    "26. Response = 1 si el cliente aceptó la oferta en la última campaña.\n",
    "27. Complain = 1 si el cliente se quejó en los últimos dos años.\n",
    "28. Country = Ubicación del cliente."
   ]
  },
  {
   "cell_type": "markdown",
   "metadata": {},
   "source": [
    "Se importarán las librerías de numpy y pandas."
   ]
  },
  {
   "cell_type": "code",
   "execution_count": 1,
   "metadata": {},
   "outputs": [],
   "source": [
    "import numpy as np\n",
    "import pandas as pd"
   ]
  },
  {
   "cell_type": "markdown",
   "metadata": {},
   "source": [
    "Se importará el archivo que se analizará."
   ]
  },
  {
   "cell_type": "code",
   "execution_count": 2,
   "metadata": {},
   "outputs": [],
   "source": [
    "df = pd.read_csv(\"marketing_data.csv\")"
   ]
  },
  {
   "cell_type": "code",
   "execution_count": null,
   "metadata": {},
   "outputs": [],
   "source": []
  },
  {
   "cell_type": "code",
   "execution_count": null,
   "metadata": {},
   "outputs": [],
   "source": []
  },
  {
   "cell_type": "markdown",
   "metadata": {},
   "source": [
    "## Seleccionar filas "
   ]
  },
  {
   "cell_type": "markdown",
   "metadata": {},
   "source": [
    "Selección de las filas de la 10 a la 20. La 10 inclusiva y la 20 no se incluye."
   ]
  },
  {
   "cell_type": "code",
   "execution_count": null,
   "metadata": {},
   "outputs": [],
   "source": []
  },
  {
   "cell_type": "markdown",
   "metadata": {},
   "source": [
    "Aquí se enlistan los nombres de todas las columnas del dataset."
   ]
  },
  {
   "cell_type": "code",
   "execution_count": null,
   "metadata": {},
   "outputs": [],
   "source": []
  },
  {
   "cell_type": "markdown",
   "metadata": {},
   "source": [
    "## Otro tipo de selección de filas "
   ]
  },
  {
   "cell_type": "markdown",
   "metadata": {},
   "source": [
    "### ¿Los clientes más jóvenes?"
   ]
  },
  {
   "cell_type": "markdown",
   "metadata": {},
   "source": [
    "Se utiliza el siguiente código para encontrar los 5 mayores valores de la columna \"Year_Birth\". Con esto podemos encontar a los clientes más jóvenes."
   ]
  },
  {
   "cell_type": "code",
   "execution_count": null,
   "metadata": {},
   "outputs": [],
   "source": []
  },
  {
   "cell_type": "markdown",
   "metadata": {},
   "source": [
    "### ¿Los clientes mayores? "
   ]
  },
  {
   "cell_type": "markdown",
   "metadata": {},
   "source": [
    "Se utiliza el siguiente código para encontrar los 5 menores valores de la columna \"Year_Birth\". Con esto podemos encontar a los clientes mayores de edad."
   ]
  },
  {
   "cell_type": "code",
   "execution_count": null,
   "metadata": {},
   "outputs": [],
   "source": []
  },
  {
   "cell_type": "markdown",
   "metadata": {},
   "source": [
    "### ¿Los clientes con la mayor cantidad de días desde la última compra?"
   ]
  },
  {
   "cell_type": "markdown",
   "metadata": {},
   "source": [
    "Con esto podemos encontrar a los 5 clientes con los valores más altos en la columna de \"Recency\", es decir se ubicaron a los 5 clientes con la mayor cantidade días desde la última compra."
   ]
  },
  {
   "cell_type": "code",
   "execution_count": null,
   "metadata": {},
   "outputs": [],
   "source": []
  },
  {
   "cell_type": "markdown",
   "metadata": {},
   "source": [
    "### ¿Los clientes con la menor cantidad de días desde la última compra?"
   ]
  },
  {
   "cell_type": "markdown",
   "metadata": {},
   "source": [
    "Con esto podemos encontrar a los 5 clientes con los valores más bajos en la columna de \"Recency\", es decir se ubicaron a los 5 clientes con la menor cantidad de días desde la última compra."
   ]
  },
  {
   "cell_type": "code",
   "execution_count": null,
   "metadata": {},
   "outputs": [],
   "source": []
  },
  {
   "cell_type": "markdown",
   "metadata": {},
   "source": [
    "-------------------------------------------------------------------------------------------------------------------------------\n",
    "--------------------------------------------------------------------------------------------------------------------------------------------------------------------------------------------------------------------------------------------------------------"
   ]
  },
  {
   "cell_type": "markdown",
   "metadata": {},
   "source": [
    "# Subset Variables (Columns)"
   ]
  },
  {
   "cell_type": "markdown",
   "metadata": {},
   "source": [
    "Aquí se seleccionan las columnas \"Education\", \"Income\", \"Recency\" y \"Response\" del dataset df."
   ]
  },
  {
   "cell_type": "code",
   "execution_count": null,
   "metadata": {},
   "outputs": [],
   "source": []
  },
  {
   "cell_type": "markdown",
   "metadata": {},
   "source": [
    "Aquí se selecciona únicamente la columna \"Response\"."
   ]
  },
  {
   "cell_type": "code",
   "execution_count": null,
   "metadata": {},
   "outputs": [],
   "source": []
  },
  {
   "cell_type": "code",
   "execution_count": null,
   "metadata": {},
   "outputs": [],
   "source": []
  },
  {
   "cell_type": "markdown",
   "metadata": {},
   "source": [
    "Aquí seleccionamos a las columnas que inicen su nombre con \"Accepted\"."
   ]
  },
  {
   "cell_type": "code",
   "execution_count": null,
   "metadata": {},
   "outputs": [],
   "source": []
  },
  {
   "cell_type": "markdown",
   "metadata": {},
   "source": [
    "Aquí seleccionamos a las columnas que terminen su nombre con \"home\"."
   ]
  },
  {
   "cell_type": "code",
   "execution_count": null,
   "metadata": {},
   "outputs": [],
   "source": []
  },
  {
   "cell_type": "markdown",
   "metadata": {},
   "source": [
    "Aquí seleccionamos las columnas desde \"Year_Birth\" hasta \"Kidhome\" incluyéndose."
   ]
  },
  {
   "cell_type": "code",
   "execution_count": null,
   "metadata": {},
   "outputs": [],
   "source": []
  },
  {
   "cell_type": "markdown",
   "metadata": {},
   "source": [
    "Aquí se incluyen las columnas 1, 2 y 5."
   ]
  },
  {
   "cell_type": "code",
   "execution_count": null,
   "metadata": {},
   "outputs": [],
   "source": []
  },
  {
   "cell_type": "markdown",
   "metadata": {},
   "source": [
    "-------------------------------------------------------------------------------------------------------------------------------\n",
    "--------------------------------------------------------------------------------------------------------------------------------------------------------------------------------------------------------------------------------------------------------------"
   ]
  },
  {
   "cell_type": "markdown",
   "metadata": {},
   "source": [
    "# Summarize data"
   ]
  },
  {
   "cell_type": "markdown",
   "metadata": {},
   "source": [
    "Veamos que nivel de escolaridad tienen los clientes registrados en la campaña de marketing."
   ]
  },
  {
   "cell_type": "code",
   "execution_count": null,
   "metadata": {},
   "outputs": [],
   "source": []
  },
  {
   "cell_type": "markdown",
   "metadata": {},
   "source": [
    "Con el siguiente código veremos el estado civil de los clientes que recibieron la campaña de marketing."
   ]
  },
  {
   "cell_type": "code",
   "execution_count": null,
   "metadata": {},
   "outputs": [],
   "source": []
  },
  {
   "cell_type": "markdown",
   "metadata": {},
   "source": [
    "Aquí creamos dos datasets. Uno con los clientes que respondieron positivamente a la primera campaña y el otro dataset son los clients que no respondieron a la primera campaña."
   ]
  },
  {
   "cell_type": "code",
   "execution_count": null,
   "metadata": {},
   "outputs": [],
   "source": []
  },
  {
   "cell_type": "markdown",
   "metadata": {},
   "source": [
    "En el siguiente código vemos la cantidad de quejas y el número de niños en su hogar de los clientes que sí respondieron a la primera campaña de marketing."
   ]
  },
  {
   "cell_type": "code",
   "execution_count": null,
   "metadata": {},
   "outputs": [],
   "source": []
  },
  {
   "cell_type": "markdown",
   "metadata": {},
   "source": [
    "En el siguiente código vemos la cantidad de quejas y el número de niños en su hogar de los clientes que no respondieron a la primera campaña de marketing."
   ]
  },
  {
   "cell_type": "code",
   "execution_count": null,
   "metadata": {},
   "outputs": [],
   "source": []
  },
  {
   "cell_type": "markdown",
   "metadata": {},
   "source": [
    "Podemos ver que las personas que no tienen niños en sus hogares y no han tenido quejas, son más propensos a aceptar la oferta en la primera campaña de marketing."
   ]
  },
  {
   "cell_type": "markdown",
   "metadata": {},
   "source": [
    "Con la función de .describe podemos ver las medidas de tendencia central y las medidas de dispersión de los dataset."
   ]
  },
  {
   "cell_type": "code",
   "execution_count": null,
   "metadata": {},
   "outputs": [],
   "source": []
  },
  {
   "cell_type": "code",
   "execution_count": null,
   "metadata": {},
   "outputs": [],
   "source": []
  },
  {
   "cell_type": "markdown",
   "metadata": {},
   "source": [
    "Nuevamente podemos concluir que las personas que no tienen reclamos y que no tiene niños en sus hogares son más propensos a aceptar la oferta en la primera campaña de marketing. Las personas que aceptan la oferta en la primera campaña suelen consumir mas vino, futas, carnes y dulces."
   ]
  },
  {
   "cell_type": "code",
   "execution_count": null,
   "metadata": {},
   "outputs": [],
   "source": []
  },
  {
   "cell_type": "code",
   "execution_count": null,
   "metadata": {},
   "outputs": [],
   "source": []
  },
  {
   "cell_type": "code",
   "execution_count": null,
   "metadata": {},
   "outputs": [],
   "source": []
  }
 ],
 "metadata": {
  "kernelspec": {
   "display_name": "Python 3 (ipykernel)",
   "language": "python",
   "name": "python3"
  },
  "language_info": {
   "codemirror_mode": {
    "name": "ipython",
    "version": 3
   },
   "file_extension": ".py",
   "mimetype": "text/x-python",
   "name": "python",
   "nbconvert_exporter": "python",
   "pygments_lexer": "ipython3",
   "version": "3.9.12"
  }
 },
 "nbformat": 4,
 "nbformat_minor": 4
}
