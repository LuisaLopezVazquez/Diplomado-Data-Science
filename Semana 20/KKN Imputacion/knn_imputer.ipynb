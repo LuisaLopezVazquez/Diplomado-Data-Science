{
 "cells": [
  {
   "cell_type": "markdown",
   "metadata": {},
   "source": [
    "<h2><font color=\"#004D7F\" size=6>Módulo 4. Machine Learning</font></h2>\n",
    "\n",
    "\n",
    "\n",
    "<h1><font color=\"#004D7F\" size=4> Tecnica de imputación simple usando KNN</font></h1>\n",
    "\n",
    "<br>\n",
    "<div style=\"text-align: right\">\n",
    "<font color=\"#004D7F\" size=3>Luisa López Vázquez</font><br>\n",
    "<font color=\"#004D7F\" size=3>Diplomado en Ciencia de Datos</font><br>"
   ]
  },
  {
   "cell_type": "code",
   "execution_count": 1,
   "metadata": {},
   "outputs": [],
   "source": [
    "import numpy as np\n",
    "import matplotlib.pyplot as plt"
   ]
  },
  {
   "cell_type": "code",
   "execution_count": 2,
   "metadata": {},
   "outputs": [],
   "source": [
    "# Datos del contexto\n",
    "edad = np.array([17, 18, 18, 19, 20,\n",
    "                 21, 21, 40, 41, 42,\n",
    "                 42, 43, 44, 44, 45,\n",
    "                 50, 54, 60, 61, 67,\n",
    "                 67, 68, 76, 79, 83])\n",
    "\n",
    "estudio = np.array([6, 6, 7, 7, 8,\n",
    "                    8, 9, 10, 10, 10, \n",
    "                    11, 11, 11, 11, 12,\n",
    "                    14, 16, 16, 16, 16,\n",
    "                    16, 17, 19, 19, 22])\n",
    "\n",
    "ingreso = np.array([11230, 9624, 13798, 3215, 19169, \n",
    "                    14982, 15419, 17286, 14232, 18092,\n",
    "                    18318, 16260, 22347, 16710, 28949,\n",
    "                    27309, 32779, 29743, 30341, 34088,\n",
    "                    32435, 33909, 32263, 42067, 42295])"
   ]
  },
  {
   "cell_type": "code",
   "execution_count": 3,
   "metadata": {},
   "outputs": [],
   "source": [
    "#Los metemos en un solo array con la funcion stack\n"
   ]
  },
  {
   "cell_type": "code",
   "execution_count": 4,
   "metadata": {},
   "outputs": [],
   "source": [
    "# Gráfica tridimensional de los datos\n"
   ]
  },
  {
   "cell_type": "markdown",
   "metadata": {},
   "source": [
    "\n",
    "<h1 style=\"color:purple\">Preprocesamiento de los Datos</h1>\n",
    "<h2 style=\"color:indianred\">Escalamiento</h1>"
   ]
  },
  {
   "cell_type": "code",
   "execution_count": 5,
   "metadata": {},
   "outputs": [],
   "source": [
    "#Importamos libreria de prepocesamiento\n",
    "from sklearn import preprocessing\n",
    "\n",
    "#Datos escalados\n",
    "\n",
    "\n",
    "\n",
    "#Datos originales\n",
    "\n"
   ]
  },
  {
   "cell_type": "markdown",
   "metadata": {},
   "source": [
    "<h1 style=\"color:purple\">Introducción de datos faltantes</h1>\n",
    "<h2 style=\"color:indianred\">Not a Number (nan) de Numpy </h2>"
   ]
  },
  {
   "cell_type": "code",
   "execution_count": null,
   "metadata": {},
   "outputs": [],
   "source": []
  },
  {
   "cell_type": "markdown",
   "metadata": {},
   "source": [
    "<h2 style=\"color:purple\">Estimación e Imputación de datos faltantes</h2>"
   ]
  },
  {
   "cell_type": "code",
   "execution_count": 6,
   "metadata": {},
   "outputs": [],
   "source": [
    "from sklearn.impute import KNNImputer\n",
    "\n"
   ]
  },
  {
   "cell_type": "markdown",
   "metadata": {},
   "source": [
    "<h2 style=\"color:purple\">Graficar datos imputados/estimados </h2>"
   ]
  },
  {
   "cell_type": "code",
   "execution_count": null,
   "metadata": {},
   "outputs": [],
   "source": [
    "\n",
    "\n"
   ]
  },
  {
   "cell_type": "code",
   "execution_count": null,
   "metadata": {},
   "outputs": [],
   "source": []
  }
 ],
 "metadata": {
  "kernelspec": {
   "display_name": "Python 3 (ipykernel)",
   "language": "python",
   "name": "python3"
  },
  "language_info": {
   "codemirror_mode": {
    "name": "ipython",
    "version": 3
   },
   "file_extension": ".py",
   "mimetype": "text/x-python",
   "name": "python",
   "nbconvert_exporter": "python",
   "pygments_lexer": "ipython3",
   "version": "3.9.12"
  }
 },
 "nbformat": 4,
 "nbformat_minor": 4
}
