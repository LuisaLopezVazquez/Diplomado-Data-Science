{
 "cells": [
  {
   "cell_type": "markdown",
   "id": "83707b1b-7341-4af5-a7ad-b1e0f6678721",
   "metadata": {},
   "source": [
    "# Ciclo for"
   ]
  },
  {
   "cell_type": "code",
   "execution_count": 1,
   "id": "c4a7fc13-bda6-42e8-86f8-a103fb62bb8f",
   "metadata": {},
   "outputs": [
    {
     "data": {
      "text/plain": [
       "['lunes', 'martes', 'miercoles', 'jueves', 'viernes', 'sabado', 'domingo']"
      ]
     },
     "execution_count": 1,
     "metadata": {},
     "output_type": "execute_result"
    }
   ],
   "source": [
    "dias_semana=[\"lunes\",\"martes\",\"miercoles\",\"jueves\",\"viernes\",\"sabado\",\"domingo\"]\n",
    "dias_semana"
   ]
  },
  {
   "cell_type": "code",
   "execution_count": 10,
   "id": "601a02aa-53c0-44dd-a07c-af6f1c8bc425",
   "metadata": {},
   "outputs": [],
   "source": [
    "ventas=[25656,15555,155555,15555,8888,]"
   ]
  },
  {
   "cell_type": "code",
   "execution_count": 12,
   "id": "c35dcedc-68ea-4df1-9b45-4d3f7e7fb954",
   "metadata": {},
   "outputs": [
    {
     "name": "stdout",
     "output_type": "stream",
     "text": [
      "25656\n",
      "15555\n",
      "155555\n",
      "15555\n",
      "8888\n"
     ]
    }
   ],
   "source": [
    "for miVenta in ventas:\n",
    "    print(miVenta)"
   ]
  },
  {
   "cell_type": "code",
   "execution_count": null,
   "id": "d584445f-bb04-488a-818f-9be26d03a5a4",
   "metadata": {},
   "outputs": [],
   "source": []
  }
 ],
 "metadata": {
  "kernelspec": {
   "display_name": "Python 3 (ipykernel)",
   "language": "python",
   "name": "python3"
  },
  "language_info": {
   "codemirror_mode": {
    "name": "ipython",
    "version": 3
   },
   "file_extension": ".py",
   "mimetype": "text/x-python",
   "name": "python",
   "nbconvert_exporter": "python",
   "pygments_lexer": "ipython3",
   "version": "3.9.12"
  }
 },
 "nbformat": 4,
 "nbformat_minor": 5
}
