{
 "cells": [
  {
   "cell_type": "code",
   "execution_count": 1,
   "id": "90267986-7e9c-4211-98d9-8e821bdd7ce5",
   "metadata": {},
   "outputs": [
    {
     "name": "stdout",
     "output_type": "stream",
     "text": [
      "50\n"
     ]
    }
   ],
   "source": [
    "volor_numerico=50\n",
    "print(volor_numerico)"
   ]
  },
  {
   "cell_type": "code",
   "execution_count": 2,
   "id": "0f2e5b74-2325-47ab-abea-e12f8e7d45dc",
   "metadata": {},
   "outputs": [
    {
     "data": {
      "text/plain": [
       "50"
      ]
     },
     "execution_count": 2,
     "metadata": {},
     "output_type": "execute_result"
    }
   ],
   "source": [
    "volor_numerico"
   ]
  },
  {
   "cell_type": "code",
   "execution_count": 3,
   "id": "683e09f3-6e01-4097-b21f-9968e33c2130",
   "metadata": {},
   "outputs": [
    {
     "data": {
      "text/plain": [
       "'Diplomado en ciencia de datos'"
      ]
     },
     "execution_count": 3,
     "metadata": {},
     "output_type": "execute_result"
    }
   ],
   "source": [
    "cadena=\"Diplomado en ciencia de datos\"\n",
    "cadena"
   ]
  },
  {
   "cell_type": "code",
   "execution_count": 4,
   "id": "adfa8bd6-669c-433a-ae50-e4feca18d9f7",
   "metadata": {},
   "outputs": [
    {
     "name": "stdin",
     "output_type": "stream",
     "text": [
      "Ingresa el velor del numero a:  20\n",
      "Ingresa el valor del numero b:  5\n"
     ]
    }
   ],
   "source": [
    "a=input(\"Ingresa el velor del numero a: \")\n",
    "b=input(\"Ingresa el valor del numero b: \")"
   ]
  },
  {
   "cell_type": "code",
   "execution_count": 5,
   "id": "db119531-ccb6-4338-85d9-ffd934692cbb",
   "metadata": {},
   "outputs": [
    {
     "data": {
      "text/plain": [
       "('20', '5')"
      ]
     },
     "execution_count": 5,
     "metadata": {},
     "output_type": "execute_result"
    }
   ],
   "source": [
    "a,b"
   ]
  },
  {
   "cell_type": "code",
   "execution_count": 6,
   "id": "8cf7c6d6-2b00-4f05-8533-eaa75686d7fb",
   "metadata": {},
   "outputs": [
    {
     "data": {
      "text/plain": [
       "str"
      ]
     },
     "execution_count": 6,
     "metadata": {},
     "output_type": "execute_result"
    }
   ],
   "source": [
    "#Permite ver el tipo de dato de la variable\n",
    "type(a)"
   ]
  },
  {
   "cell_type": "code",
   "execution_count": 15,
   "id": "15f216a8-e85a-48a8-87a5-2a0e882d3370",
   "metadata": {},
   "outputs": [],
   "source": [
    "#Cambiamos el tipo de dato\n",
    "a_entero=int(a)\n",
    "b_entero=int(b)"
   ]
  },
  {
   "cell_type": "code",
   "execution_count": 11,
   "id": "c5bdf9c2-6fa7-408b-9238-71bc6a478584",
   "metadata": {},
   "outputs": [],
   "source": [
    "#Permite cambiar una variable de tipo texto a entero\n",
    "suma = int(a)+int(b)"
   ]
  },
  {
   "cell_type": "code",
   "execution_count": 10,
   "id": "09fc7d12-b526-4fc1-a19b-fb27d195a625",
   "metadata": {},
   "outputs": [
    {
     "data": {
      "text/plain": [
       "25"
      ]
     },
     "execution_count": 10,
     "metadata": {},
     "output_type": "execute_result"
    }
   ],
   "source": [
    "suma"
   ]
  },
  {
   "cell_type": "code",
   "execution_count": 14,
   "id": "0fa8be8a-46fe-49d9-aba4-fd9874efa3b1",
   "metadata": {},
   "outputs": [
    {
     "data": {
      "text/plain": [
       "15"
      ]
     },
     "execution_count": 14,
     "metadata": {},
     "output_type": "execute_result"
    }
   ],
   "source": [
    "resta = a_entero - b_entero\n",
    "resta"
   ]
  },
  {
   "cell_type": "code",
   "execution_count": 16,
   "id": "0ff4126a-6d56-4592-97e9-aeaf3b2455d1",
   "metadata": {},
   "outputs": [],
   "source": [
    "multi = a_entero * b_entero"
   ]
  },
  {
   "cell_type": "code",
   "execution_count": 17,
   "id": "942e73a7-322c-4985-9e3c-60c797c427a9",
   "metadata": {},
   "outputs": [
    {
     "data": {
      "text/plain": [
       "100"
      ]
     },
     "execution_count": 17,
     "metadata": {},
     "output_type": "execute_result"
    }
   ],
   "source": [
    "multi"
   ]
  },
  {
   "cell_type": "code",
   "execution_count": 25,
   "id": "3a2af2d6-cb2c-4159-9d14-02dd076700f6",
   "metadata": {},
   "outputs": [
    {
     "data": {
      "text/plain": [
       "4.0"
      ]
     },
     "execution_count": 25,
     "metadata": {},
     "output_type": "execute_result"
    }
   ],
   "source": [
    "division=a_entero/b_entero\n",
    "division"
   ]
  },
  {
   "cell_type": "code",
   "execution_count": 21,
   "id": "3b8afd88-e357-4f94-bf00-7a76c94f95e3",
   "metadata": {},
   "outputs": [
    {
     "data": {
      "text/plain": [
       "2.3333333333333335"
      ]
     },
     "execution_count": 21,
     "metadata": {},
     "output_type": "execute_result"
    }
   ],
   "source": [
    "division = 7/3\n",
    "division"
   ]
  },
  {
   "cell_type": "code",
   "execution_count": 22,
   "id": "e08e8ddb-bc13-48e7-ae88-6655e2824112",
   "metadata": {},
   "outputs": [
    {
     "data": {
      "text/plain": [
       "float"
      ]
     },
     "execution_count": 22,
     "metadata": {},
     "output_type": "execute_result"
    }
   ],
   "source": [
    "type(division)"
   ]
  },
  {
   "cell_type": "code",
   "execution_count": 27,
   "id": "3eaf65c8-3d19-4799-8bbb-fd9d291fa6a1",
   "metadata": {},
   "outputs": [],
   "source": [
    "valor_numero_1=48\n",
    "valor_numero_2=8"
   ]
  },
  {
   "cell_type": "code",
   "execution_count": 38,
   "id": "6096dc90-87ce-426d-a794-5ab6bcfdf599",
   "metadata": {},
   "outputs": [],
   "source": [
    "suma_ventas=valor_numero_1+valor_numero_2\n",
    "resta=valor_numero_1-valor_numero_2\n",
    "multip=valor_numero_1*valor_numero_2\n",
    "div=valor_numero_1/valor_numero_2"
   ]
  },
  {
   "cell_type": "code",
   "execution_count": 39,
   "id": "3bdd751a-e331-4d4d-8518-b41fc1fbcff5",
   "metadata": {},
   "outputs": [
    {
     "data": {
      "text/plain": [
       "(56, 40, 384, 6.0)"
      ]
     },
     "execution_count": 39,
     "metadata": {},
     "output_type": "execute_result"
    }
   ],
   "source": [
    "suma_ventas,resta,multip,div"
   ]
  },
  {
   "cell_type": "markdown",
   "id": "d6351fa6-6067-4855-a275-ead28c1501b0",
   "metadata": {},
   "source": [
    "# Operadores de comparación "
   ]
  },
  {
   "cell_type": "markdown",
   "id": "0343eebc-e1bb-4a22-92e6-d36e0fb6978d",
   "metadata": {},
   "source": [
    "Este es mi primer ejercicio de comparacion de valores"
   ]
  },
  {
   "cell_type": "code",
   "execution_count": 53,
   "id": "57f8869b-d13e-420c-aa8f-783e337a00a3",
   "metadata": {},
   "outputs": [
    {
     "name": "stdout",
     "output_type": "stream",
     "text": [
      "Los precios son diferentes\n"
     ]
    }
   ],
   "source": [
    "casa_cdmx = 1650000\n",
    "casa_edo = 750000\n",
    "zona=\"norte\"\n",
    "if casa_cdmx == casa_edo:\n",
    "    print(\"Los precios son iguales\")\n",
    "else:\n",
    "    print(\"Los precios son diferentes\")"
   ]
  },
  {
   "cell_type": "code",
   "execution_count": 57,
   "id": "1752a326-e373-4b81-8e96-d4b7a5348b99",
   "metadata": {},
   "outputs": [],
   "source": [
    "if casa_cdmx > casa_edo or  zona==\"sur\":\n",
    "    salida=\"Las casas de la cdmx tienen mas plusvalia\" \n",
    "else:\n",
    "    print(\"Las casas del estado de mexico tiene mas plusvalia\")"
   ]
  },
  {
   "cell_type": "code",
   "execution_count": 56,
   "id": "16d2c027-f911-4145-acfe-c4a9ecc2308d",
   "metadata": {},
   "outputs": [
    {
     "data": {
      "text/plain": [
       "'Las casas de la cdmx tienen mas plusvalia'"
      ]
     },
     "execution_count": 56,
     "metadata": {},
     "output_type": "execute_result"
    }
   ],
   "source": [
    "salida"
   ]
  },
  {
   "cell_type": "code",
   "execution_count": null,
   "id": "6805e8e0-62b1-46c3-a71c-0cb82170bc98",
   "metadata": {},
   "outputs": [],
   "source": []
  }
 ],
 "metadata": {
  "kernelspec": {
   "display_name": "Python 3 (ipykernel)",
   "language": "python",
   "name": "python3"
  },
  "language_info": {
   "codemirror_mode": {
    "name": "ipython",
    "version": 3
   },
   "file_extension": ".py",
   "mimetype": "text/x-python",
   "name": "python",
   "nbconvert_exporter": "python",
   "pygments_lexer": "ipython3",
   "version": "3.9.12"
  }
 },
 "nbformat": 4,
 "nbformat_minor": 5
}
