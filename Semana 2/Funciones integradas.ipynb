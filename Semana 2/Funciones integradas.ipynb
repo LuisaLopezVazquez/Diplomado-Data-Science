{
 "cells": [
  {
   "cell_type": "markdown",
   "id": "8b276684-251b-4c31-a49c-e5ebd0be210f",
   "metadata": {},
   "source": [
    "# Funciones integradas"
   ]
  },
  {
   "cell_type": "code",
   "execution_count": 7,
   "id": "060ea5f6-b90f-4713-8838-4a1c77666fdd",
   "metadata": {},
   "outputs": [
    {
     "data": {
      "text/plain": [
       "'1.14'"
      ]
     },
     "execution_count": 7,
     "metadata": {},
     "output_type": "execute_result"
    }
   ],
   "source": [
    "#Nos ayuda a dar formato a los decimales\n",
    "valor=1.144268954\n",
    "format(valor,\".2f\")"
   ]
  },
  {
   "cell_type": "code",
   "execution_count": 8,
   "id": "e1a79851-a176-44af-8b70-00a74169966a",
   "metadata": {},
   "outputs": [
    {
     "data": {
      "text/plain": [
       "3"
      ]
     },
     "execution_count": 8,
     "metadata": {},
     "output_type": "execute_result"
    }
   ],
   "source": [
    "#Redondea un valor hacia arriba\n",
    "numero=2.6\n",
    "round(numero)"
   ]
  },
  {
   "cell_type": "code",
   "execution_count": 11,
   "id": "221a714a-158f-422c-8269-5ae807ebc291",
   "metadata": {},
   "outputs": [
    {
     "data": {
      "text/plain": [
       "2"
      ]
     },
     "execution_count": 11,
     "metadata": {},
     "output_type": "execute_result"
    }
   ],
   "source": [
    "#Redondea hacia abajo\n",
    "numero=2.5\n",
    "round(numero)"
   ]
  },
  {
   "cell_type": "code",
   "execution_count": 12,
   "id": "f737d205-2790-4a3c-bf6a-8eeefa45768d",
   "metadata": {},
   "outputs": [
    {
     "data": {
      "text/plain": [
       "8"
      ]
     },
     "execution_count": 12,
     "metadata": {},
     "output_type": "execute_result"
    }
   ],
   "source": [
    "#Exponencial\n",
    "volor=2\n",
    "exponente=3\n",
    "pow(volor,exponente)"
   ]
  },
  {
   "cell_type": "code",
   "execution_count": 15,
   "id": "b65acdc6-b5c6-4c79-9ec6-c24a46fca618",
   "metadata": {},
   "outputs": [
    {
     "name": "stdin",
     "output_type": "stream",
     "text": [
      "ingresa actividad: sasassasas\n"
     ]
    }
   ],
   "source": [
    "#leer datos del teclado\n",
    "activida=input(\"ingresa actividad:\")"
   ]
  },
  {
   "cell_type": "code",
   "execution_count": 14,
   "id": "ee243cb4-64c5-4e05-a08e-29839cefe2fe",
   "metadata": {},
   "outputs": [
    {
     "name": "stdout",
     "output_type": "stream",
     "text": [
      "Trabajar\n"
     ]
    }
   ],
   "source": [
    "print(activida)"
   ]
  },
  {
   "cell_type": "code",
   "execution_count": null,
   "id": "b4dbd704-85f0-42e4-9713-7fb881fcb9e0",
   "metadata": {},
   "outputs": [],
   "source": []
  }
 ],
 "metadata": {
  "kernelspec": {
   "display_name": "Python 3 (ipykernel)",
   "language": "python",
   "name": "python3"
  },
  "language_info": {
   "codemirror_mode": {
    "name": "ipython",
    "version": 3
   },
   "file_extension": ".py",
   "mimetype": "text/x-python",
   "name": "python",
   "nbconvert_exporter": "python",
   "pygments_lexer": "ipython3",
   "version": "3.9.12"
  }
 },
 "nbformat": 4,
 "nbformat_minor": 5
}
