{
 "cells": [
  {
   "cell_type": "code",
   "execution_count": 4,
   "id": "20a07744-b5d6-45dc-ae4c-b1af40c5cee3",
   "metadata": {},
   "outputs": [],
   "source": [
    "import matplotlib.pyplot as plt\n",
    "import pandas as pd\n",
    "import seaborn as sns\n",
    "from sklearn.neighbors import KNeighborsClassifier"
   ]
  },
  {
   "cell_type": "code",
   "execution_count": 11,
   "id": "d9926d2d-3d08-432d-9602-80a795742cd7",
   "metadata": {},
   "outputs": [
    {
     "data": {
      "image/png": "[encoded data removed]",
      "text/plain": [
       "<Figure size 432x288 with 1 Axes>"
      ]
     },
     "metadata": {
      "needs_background": "light"
     },
     "output_type": "display_data"
    }
   ],
   "source": [
    "data = {'Masa': [50, 80, 90, 45, 60],\n",
    "        'Altura': [1.48, 1.82, 1.85, 1.55, 1.60],\n",
    "        'Genero': ['m', 'h', 'h', 'm', 'm']}\n",
    "punto_nuevo = {'Masa': [70],\n",
    "               'Altura': [1.82]}\n",
    "df = pd.DataFrame(data)\n",
    "punto_nuevo = pd.DataFrame(punto_nuevo)\n",
    "# sns.scatterplot(df['Masa'], df['Altura'], hue=df['sex'])\n",
    "ax = plt.axes()\n",
    "ax.scatter(df.loc[df['Genero'] == 'h', 'Masa'],\n",
    "           df.loc[df['Genero'] == 'h', 'Altura'],\n",
    "           c=\"blue\",\n",
    "           label=\"Hombre\")\n",
    "ax.scatter(df.loc[df['Genero'] == 'm', 'Masa'],\n",
    "           df.loc[df['Genero'] == 'm', 'Altura'],\n",
    "           c=\"pink\",\n",
    "           label=\"Mujer\")\n",
    "ax.scatter(punto_nuevo['Masa'],\n",
    "           punto_nuevo['Altura'],\n",
    "           c=\"black\")\n",
    "plt.xlabel(\"Masa\")\n",
    "plt.ylabel(\"Altura\")\n",
    "ax.legend()\n",
    "plt.show()"
   ]
  },
  {
   "cell_type": "code",
   "execution_count": 12,
   "id": "26fc3b4a-6234-455c-8384-6f0c1223f56c",
   "metadata": {},
   "outputs": [
    {
     "name": "stdout",
     "output_type": "stream",
     "text": [
      "['h']\n"
     ]
    },
    {
     "name": "stderr",
     "output_type": "stream",
     "text": [
      "C:\\Users\\e-luisalopez\\Anaconda3\\lib\\site-packages\\sklearn\\neighbors\\_classification.py:198: DataConversionWarning: A column-vector y was passed when a 1d array was expected. Please change the shape of y to (n_samples,), for example using ravel().\n",
      "  return self._fit(X, y)\n"
     ]
    }
   ],
   "source": [
    "from sklearn.neighbors import KNeighborsClassifier\n",
    "knn = KNeighborsClassifier(n_neighbors=3)\n",
    "X = df[['Masa', 'Altura']]\n",
    "y = df[['Genero']]\n",
    "knn.fit(X, y)\n",
    "prediccion = knn.predict(punto_nuevo)\n",
    "print(prediccion)"
   ]
  },
  {
   "cell_type": "code",
   "execution_count": null,
   "id": "a51062fe-6b5f-4ba0-8d7e-618648f5e981",
   "metadata": {},
   "outputs": [],
   "source": []
  }
 ],
 "metadata": {
  "kernelspec": {
   "display_name": "Python 3 (ipykernel)",
   "language": "python",
   "name": "python3"
  },
  "language_info": {
   "codemirror_mode": {
    "name": "ipython",
    "version": 3
   },
   "file_extension": ".py",
   "mimetype": "text/x-python",
   "name": "python",
   "nbconvert_exporter": "python",
   "pygments_lexer": "ipython3",
   "version": "3.9.12"
  }
 },
 "nbformat": 4,
 "nbformat_minor": 5
}
