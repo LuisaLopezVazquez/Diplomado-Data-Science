{
 "cells": [
  {
   "cell_type": "code",
   "execution_count": 1,
   "id": "a608e1d2-242d-4cdb-b91e-adf8875149d4",
   "metadata": {},
   "outputs": [],
   "source": [
    "import numpy as np\n",
    "import random\n",
    "from IPython.display import display\n",
    "import matplotlib.pyplot as plt"
   ]
  },
  {
   "cell_type": "code",
   "execution_count": 2,
   "id": "acb75c0d-3859-43e5-8a88-d6c5e76e89e0",
   "metadata": {},
   "outputs": [
    {
     "data": {
      "text/plain": [
       "<module 'matplotlib.pyplot' from 'C:\\\\Users\\\\e-luisalopez\\\\Anaconda3\\\\lib\\\\site-packages\\\\matplotlib\\\\pyplot.py'>"
      ]
     },
     "metadata": {},
     "output_type": "display_data"
    },
    {
     "data": {
      "image/png": "[encoded data removed]",
      "text/plain": [
       "<Figure size 432x288 with 1 Axes>"
      ]
     },
     "metadata": {
      "needs_background": "light"
     },
     "output_type": "display_data"
    }
   ],
   "source": [
    "n = 50 # 50 muestras aleatorias\n",
    "# generamos dos centros para las dos clases de puntos para entrenamiento \n",
    "c1 = [random.randint(0,1000), random.randint(0,1000)]\n",
    "c2 = [random.randint(0,1000), random.randint(0,1000)]\n",
    "# generamos las muestras aleatorias alrededor de los centros\n",
    "tuplasC1 = []\n",
    "tuplasC2 = []\n",
    "labelsC1 = []\n",
    "labelsC2 = []\n",
    "for i in range(int(n/2)):\n",
    "    tuplasC1.append([c1[0] + random.randint(-100,100), c1[1] + random.randint(-100,100)])\n",
    "    labelsC1.append(0)\n",
    "    tuplasC2.append([c2[0] + random.randint(-100,100), c2[1] + random.randint(-100,100)])\n",
    "    labelsC2.append(1)\n",
    " \n",
    "labels = labelsC1 + labelsC2\n",
    "puntos = np.matrix(tuplasC1 + tuplasC2)\n",
    "# dibujamos los puntos\n",
    "plt.scatter([puntos[:int(n/2),0]], [puntos[:int(n/2),1]], c=\"b\")\n",
    "plt.scatter([puntos[int(n/2):,0]], [puntos[int(n/2):,1]], c=\"g\")\n",
    "display(plt)"
   ]
  },
  {
   "cell_type": "code",
   "execution_count": 3,
   "id": "230f904d-e1ec-4d04-8228-d70e8a19a8da",
   "metadata": {},
   "outputs": [
    {
     "data": {
      "text/plain": [
       "<module 'matplotlib.pyplot' from 'C:\\\\Users\\\\e-luisalopez\\\\Anaconda3\\\\lib\\\\site-packages\\\\matplotlib\\\\pyplot.py'>"
      ]
     },
     "metadata": {},
     "output_type": "display_data"
    },
    {
     "data": {
      "image/png": "[encoded data removed]",
      "text/plain": [
       "<Figure size 432x288 with 1 Axes>"
      ]
     },
     "metadata": {
      "needs_background": "light"
     },
     "output_type": "display_data"
    }
   ],
   "source": [
    "# generamos puntos aleatorios nuevos para clasificarlos\n",
    "n_test = 10\n",
    "tuplas = []\n",
    "for i in range(n_test):\n",
    "    tuplas.append([random.randint(0,1000), random.randint(0,1000)])\n",
    "    \n",
    "puntos_test = np.matrix(tuplas)\n",
    "# dibujamos los nuevos puntos junto con los anteriores\n",
    "plt.scatter([puntos[:int(n/2),0]], [puntos[:int(n/2),1]], c=\"b\")\n",
    "plt.scatter([puntos[int(n/2):,0]], [puntos[int(n/2):,1]], c=\"g\")\n",
    "plt.scatter([puntos_test[:,0]], [puntos_test[:,1]], c='r', marker='x')\n",
    "display(plt)"
   ]
  },
  {
   "cell_type": "code",
   "execution_count": 4,
   "id": "a6a39a92-e7ba-4403-9489-3fcb61ffdda4",
   "metadata": {},
   "outputs": [],
   "source": [
    "# usamos KNN para clasificar los nuevos puntos\n",
    "k = 5 # número de vecinos\n",
    " \n",
    "pred_label = []\n",
    "# clasificamos cada uno de los puntos nuevos\n",
    "for i in range(puntos_test.shape[0]):\n",
    "    distances = []\n",
    "    # por cada punto calculamos la distancia con los puntos de entrenamiento \n",
    "    for j in range(puntos.shape[0]):\n",
    "        dist = np.sqrt(np.sum(np.square(puntos[j] - puntos_test[i])))\n",
    "        distances.append((dist, labels[j])) # guardamos las etiquetas y la distancia\n",
    " \n",
    "    # ordenamos por distancia y nos quedamos con los k vecinos más cercanos\n",
    "    distances.sort(key=lambda x: x[0])\n",
    "    neighbors = distances[:k]\n",
    "    # contamos los votos para ver qué etiqueta gana\n",
    "    votes = [0,0]\n",
    "    for neighbor in neighbors:\n",
    "        votes[neighbor[1]] = votes[neighbor[1]] + 1\n",
    "    # obtenemos la etiqueta ganadora\n",
    "    pred_label.append(votes.index(max(votes)))"
   ]
  },
  {
   "cell_type": "code",
   "execution_count": 5,
   "id": "c9b51fae-e05a-4b5b-ab22-1e6bc935466c",
   "metadata": {},
   "outputs": [
    {
     "data": {
      "text/plain": [
       "<module 'matplotlib.pyplot' from 'C:\\\\Users\\\\e-luisalopez\\\\Anaconda3\\\\lib\\\\site-packages\\\\matplotlib\\\\pyplot.py'>"
      ]
     },
     "metadata": {},
     "output_type": "display_data"
    },
    {
     "data": {
      "image/png": "[encoded data removed]",
      "text/plain": [
       "<Figure size 432x288 with 1 Axes>"
      ]
     },
     "metadata": {
      "needs_background": "light"
     },
     "output_type": "display_data"
    }
   ],
   "source": [
    "# separar los datos clasificados para dibujarlos\n",
    "g0 = []\n",
    "g1 = []\n",
    "for i in range(len(pred_label)):\n",
    "    if pred_label[i] == 0:\n",
    "        g0.append([puntos_test[i,0], puntos_test[i,1]])\n",
    "    else:\n",
    "        g1.append([puntos_test[i,0], puntos_test[i,1]])\n",
    "        \n",
    "grupo0 = np.matrix(g0)\n",
    "grupo1 = np.matrix(g1)\n",
    " \n",
    "# mostrar datos ya clasificados\n",
    "plt.scatter([puntos[:int(n/2),0]], [puntos[:int(n/2),1]], c=\"b\")\n",
    "plt.scatter([puntos[int(n/2):,0]], [puntos[int(n/2):,1]], c=\"g\")\n",
    "plt.scatter([grupo0[:,0]], [grupo0[:,1]], c='b', marker='x')\n",
    "plt.scatter([grupo1[:,0]], [grupo1[:,1]], c='g', marker='x')\n",
    "display(plt) "
   ]
  }
 ],
 "metadata": {
  "kernelspec": {
   "display_name": "Python 3 (ipykernel)",
   "language": "python",
   "name": "python3"
  },
  "language_info": {
   "codemirror_mode": {
    "name": "ipython",
    "version": 3
   },
   "file_extension": ".py",
   "mimetype": "text/x-python",
   "name": "python",
   "nbconvert_exporter": "python",
   "pygments_lexer": "ipython3",
   "version": "3.9.12"
  }
 },
 "nbformat": 4,
 "nbformat_minor": 5
}
