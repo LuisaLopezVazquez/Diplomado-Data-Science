{
 "cells": [
  {
   "cell_type": "code",
   "execution_count": 6,
   "id": "16068bcc-6f84-45ca-ab6a-c2fcac8c2e75",
   "metadata": {},
   "outputs": [],
   "source": [
    "class Test:\n",
    "    def function_one():\n",
    "       print(\"Funcion uno\")\n",
    "\n",
    "    def function_two():\n",
    "       print(\"Funcion dos\")"
   ]
  },
  {
   "cell_type": "code",
   "execution_count": 10,
   "id": "05139259-1946-439d-88ca-eb3a1a014856",
   "metadata": {},
   "outputs": [
    {
     "name": "stdout",
     "output_type": "stream",
     "text": [
      "Funcion uno\n",
      "Funcion dos\n"
     ]
    }
   ],
   "source": [
    "if __name__ == \"__main__\":\n",
    "    t=Test\n",
    "    t.function_one()\n",
    "    t.function_two()  "
   ]
  },
  {
   "cell_type": "code",
   "execution_count": 12,
   "id": "f3ef0cf6-c137-48f2-89e2-c5d54f975a8f",
   "metadata": {},
   "outputs": [
    {
     "name": "stdin",
     "output_type": "stream",
     "text": [
      " 5\n"
     ]
    },
    {
     "name": "stdout",
     "output_type": "stream",
     "text": [
      "[0, 1, 1, 8, 27]\n"
     ]
    }
   ],
   "source": [
    "cube = lambda x: x ** 3 # complete the lambda function \n",
    "\n",
    "def fibonacci(n):\n",
    "    # return a list of fibonacci numbers\n",
    "    ls = [0, 1]\n",
    "    for i in range(2,n):\n",
    "        ls.append(ls[i-1] + ls[i-2])\n",
    "    return ls[:n]\n",
    "\n",
    "if __name__ == '__main__':\n",
    "    n = int(input())\n",
    "    print(list(map(cube, fibonacci(n))))"
   ]
  },
  {
   "cell_type": "code",
   "execution_count": 14,
   "id": "83c5caba-8be7-4d1b-97c5-2af96ac43b7b",
   "metadata": {},
   "outputs": [
    {
     "name": "stdin",
     "output_type": "stream",
     "text": [
      " 3\n",
      " lara@hackerrank.com\n",
      " brian-23@hackerrank.com\n",
      " britts_54@hackerrank.com\n"
     ]
    },
    {
     "name": "stdout",
     "output_type": "stream",
     "text": [
      "['brian-23@hackerrank.com', 'britts_54@hackerrank.com', 'lara@hackerrank.com']\n"
     ]
    }
   ],
   "source": [
    "def fun(s):\n",
    "    # return True if s is a valid email, else return False}\n",
    "    try:\n",
    "        username, url = s.split('@')\n",
    "        website,extension = url.split('.')\n",
    "    except ValueError:\n",
    "        return False\n",
    "    \n",
    "    if username.replace('-','').replace('_','').isalnum() is False:\n",
    "        return False\n",
    "    \n",
    "    elif website.isalnum() is False:\n",
    "        return False\n",
    "    \n",
    "    elif len(extension) > 3:\n",
    "        return False\n",
    "    \n",
    "    else :\n",
    "        return True\n",
    "\n",
    "def filter_mail(emails):\n",
    "    return list(filter(fun, emails))\n",
    "\n",
    "if __name__ == '__main__':\n",
    "    n = int(input())\n",
    "    emails = []\n",
    "    for _ in range(n):\n",
    "        emails.append(input())\n",
    "\n",
    "filtered_emails = filter_mail(emails)\n",
    "filtered_emails.sort()\n",
    "print(filtered_emails)"
   ]
  },
  {
   "cell_type": "code",
   "execution_count": 16,
   "id": "9fa3bebb-36b5-40c7-8bfa-6b5b3a360dee",
   "metadata": {},
   "outputs": [
    {
     "name": "stdin",
     "output_type": "stream",
     "text": [
      " 3\n",
      " 1 2\n",
      " 3 4\n",
      " 10 6\n"
     ]
    },
    {
     "name": "stdout",
     "output_type": "stream",
     "text": [
      "5 8\n"
     ]
    }
   ],
   "source": [
    "from fractions import Fraction\n",
    "from functools import reduce\n",
    "\n",
    "def product(fracs):\n",
    "    #t = # complete this line with a reduce statement\n",
    "    t = Fraction(reduce(lambda x, y: x * y, fracs))\n",
    "    return t.numerator, t.denominator\n",
    "\n",
    "if __name__ == '__main__':\n",
    "    fracs = []\n",
    "    for _ in range(int(input())):\n",
    "        fracs.append(Fraction(*map(int, input().split())))\n",
    "    result = product(fracs)\n",
    "    print(*result)"
   ]
  },
  {
   "cell_type": "code",
   "execution_count": 19,
   "id": "3d24b269-bad6-49cf-836a-36de0088f38c",
   "metadata": {},
   "outputs": [
    {
     "name": "stdin",
     "output_type": "stream",
     "text": [
      " 1\n",
      " 07895462130\n"
     ]
    },
    {
     "name": "stdout",
     "output_type": "stream",
     "text": [
      "+91 78954 62130\n"
     ]
    }
   ],
   "source": [
    "def wrapper(f):\n",
    "    def fun(l):\n",
    "        # complete the function\n",
    "        f(\"+91 \"+c[-10:-5]+\" \"+c[-5:] for c in l)\n",
    "    return fun\n",
    "\n",
    "@wrapper\n",
    "def sort_phone(l):\n",
    "    print(*sorted(l), sep='\\n')\n",
    "\n",
    "if __name__ == '__main__':\n",
    "    l = [input() for _ in range(int(input()))]\n",
    "    sort_phone(l) \n"
   ]
  },
  {
   "cell_type": "code",
   "execution_count": 20,
   "id": "8b41d9ac-8ac3-47f7-984d-e6b2226375c3",
   "metadata": {},
   "outputs": [
    {
     "name": "stdin",
     "output_type": "stream",
     "text": [
      " 2\n",
      " Mike Thomson 20 M\n",
      " Robert Bustle 32 M\n"
     ]
    },
    {
     "name": "stdout",
     "output_type": "stream",
     "text": [
      "Mr. Mike Thomson\n",
      "Mr. Robert Bustle\n"
     ]
    }
   ],
   "source": [
    "import operator\n",
    "\n",
    "def person_lister(f):\n",
    "    def inner(people):\n",
    "        # complete the function\n",
    "        return map(f, sorted(people, key=lambda x: int(x[2])))\n",
    "    return inner\n",
    "\n",
    "@person_lister\n",
    "def name_format(person):\n",
    "    return (\"Mr. \" if person[3] == \"M\" else \"Ms. \") + person[0] + \" \" + person[1]\n",
    "\n",
    "if __name__ == '__main__':\n",
    "    people = [input().split() for i in range(int(input()))]\n",
    "    print(*name_format(people), sep='\\n')"
   ]
  },
  {
   "cell_type": "code",
   "execution_count": 25,
   "id": "793e8377-e132-4c3b-acf8-dffc8adcfffa",
   "metadata": {},
   "outputs": [
    {
     "name": "stdin",
     "output_type": "stream",
     "text": [
      " 3\n",
      " loco perro feo\n"
     ]
    },
    {
     "name": "stdout",
     "output_type": "stream",
     "text": [
      "6\n"
     ]
    }
   ],
   "source": [
    "def is_vowel(letter):\n",
    "    return letter in ['a', 'e', 'i', 'o', 'u', 'y']\n",
    "\n",
    "def score_words(words):\n",
    "    score = 0\n",
    "    for word in words:\n",
    "        num_vowels = 0\n",
    "        for letter in word:\n",
    "            if is_vowel(letter):\n",
    "                num_vowels += 1\n",
    "        if num_vowels % 2 == 0:\n",
    "            score += 2\n",
    "        else:\n",
    "            score += 1\n",
    "    return score\n",
    "\n",
    "\n",
    "n = int(input())\n",
    "words = input().split()\n",
    "print(score_words(words))"
   ]
  },
  {
   "cell_type": "code",
   "execution_count": null,
   "id": "de097ce0-9d83-4685-9c67-adc457b12f92",
   "metadata": {},
   "outputs": [],
   "source": []
  }
 ],
 "metadata": {
  "kernelspec": {
   "display_name": "Python 3 (ipykernel)",
   "language": "python",
   "name": "python3"
  },
  "language_info": {
   "codemirror_mode": {
    "name": "ipython",
    "version": 3
   },
   "file_extension": ".py",
   "mimetype": "text/x-python",
   "name": "python",
   "nbconvert_exporter": "python",
   "pygments_lexer": "ipython3",
   "version": "3.9.12"
  }
 },
 "nbformat": 4,
 "nbformat_minor": 5
}
