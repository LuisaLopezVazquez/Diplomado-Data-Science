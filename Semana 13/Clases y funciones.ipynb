{
 "cells": [
  {
   "cell_type": "code",
   "execution_count": 17,
   "id": "4c689f35-7205-4829-82e6-942504df3b07",
   "metadata": {},
   "outputs": [],
   "source": [
    "class Perro:\n",
    "    def datos():\n",
    "        nombre=\"firolais\"\n",
    "        return nombre\n",
    "    def comida():\n",
    "        comida=\"wiscats\"\n",
    "        return comida\n",
    "    def vacuna():\n",
    "        vacuna=\"1 año\"\n",
    "        return vacuna"
   ]
  },
  {
   "cell_type": "code",
   "execution_count": 18,
   "id": "e5f14ba5-380f-4aa0-abdf-f56774d5772b",
   "metadata": {},
   "outputs": [
    {
     "data": {
      "text/plain": [
       "'firolais'"
      ]
     },
     "execution_count": 18,
     "metadata": {},
     "output_type": "execute_result"
    }
   ],
   "source": [
    "p = Perro\n",
    "p.datos()"
   ]
  },
  {
   "cell_type": "code",
   "execution_count": 19,
   "id": "fa2ba415-9055-41fe-b415-38db19b94ebf",
   "metadata": {},
   "outputs": [
    {
     "data": {
      "text/plain": [
       "'wiscats'"
      ]
     },
     "execution_count": 19,
     "metadata": {},
     "output_type": "execute_result"
    }
   ],
   "source": [
    "p.comida()"
   ]
  },
  {
   "cell_type": "code",
   "execution_count": 12,
   "id": "669e7c67-01fd-4c7c-9727-f38fd8bea421",
   "metadata": {},
   "outputs": [
    {
     "data": {
      "text/plain": [
       "'1 año'"
      ]
     },
     "execution_count": 12,
     "metadata": {},
     "output_type": "execute_result"
    }
   ],
   "source": [
    "p.vacuna()"
   ]
  },
  {
   "cell_type": "code",
   "execution_count": null,
   "id": "64839c68-9d2c-4038-a606-14757a097bd5",
   "metadata": {},
   "outputs": [],
   "source": []
  }
 ],
 "metadata": {
  "kernelspec": {
   "display_name": "Python 3 (ipykernel)",
   "language": "python",
   "name": "python3"
  },
  "language_info": {
   "codemirror_mode": {
    "name": "ipython",
    "version": 3
   },
   "file_extension": ".py",
   "mimetype": "text/x-python",
   "name": "python",
   "nbconvert_exporter": "python",
   "pygments_lexer": "ipython3",
   "version": "3.9.12"
  }
 },
 "nbformat": 4,
 "nbformat_minor": 5
}
