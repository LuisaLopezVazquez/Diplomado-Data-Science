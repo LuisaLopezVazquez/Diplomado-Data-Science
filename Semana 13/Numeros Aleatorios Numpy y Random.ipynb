{
 "cells": [
  {
   "cell_type": "markdown",
   "id": "dc00415f-6a7c-4191-b355-34070557a901",
   "metadata": {
    "jupyter": {
     "source_hidden": true
    },
    "tags": []
   },
   "source": [
    "<h2><font color=\"#004D7F\" size=6>Módulo 3. Estadística Descriptiva</font></h2>\n",
    "\n",
    "\n",
    "\n",
    "<h1><font color=\"#004D7F\" size=5>1. Introducción a Numpy</font></h1>\n",
    "\n",
    "<br><br>\n",
    "<div style=\"text-align: right\">\n",
    "<font color=\"#004D7F\" size=3>Luisa López Vázquez</font><br>\n",
    "<font color=\"#004D7F\" size=3>Diplomado en Ciencia de Datos</font><br>"
   ]
  },
  {
   "cell_type": "code",
   "execution_count": 10,
   "id": "16b32db3-a632-43e7-b1db-75d9ee546987",
   "metadata": {},
   "outputs": [],
   "source": [
    "#Importar la libreria de numpy\n",
    "import numpy as np"
   ]
  },
  {
   "cell_type": "code",
   "execution_count": 13,
   "id": "bcd05e5f-44af-40b7-951f-59df3886d0f5",
   "metadata": {},
   "outputs": [
    {
     "name": "stdout",
     "output_type": "stream",
     "text": [
      "[ 1  2  3 56 89 72 80]\n"
     ]
    }
   ],
   "source": [
    "# Crear mi primer array\n",
    "a = np.array([1,2,3,56,89,72,80])\n",
    "print(a)"
   ]
  },
  {
   "cell_type": "code",
   "execution_count": 15,
   "id": "14e93144-0480-4428-8e8a-684f194f40bc",
   "metadata": {},
   "outputs": [
    {
     "name": "stdout",
     "output_type": "stream",
     "text": [
      "[  1   2   3  56  89  72  80 200 600 800]\n"
     ]
    }
   ],
   "source": [
    "# Agregar elementos a nuestro array\n",
    "nuevoArray = np.append(a,[200,600,800])\n",
    "print(nuevoArray)"
   ]
  },
  {
   "cell_type": "code",
   "execution_count": 4,
   "id": "b5ecf751-9796-4c2b-b0f3-bd18d7cdee2b",
   "metadata": {},
   "outputs": [],
   "source": [
    "# Sin argumentos devuelve escalar\n"
   ]
  },
  {
   "cell_type": "code",
   "execution_count": 16,
   "id": "e41d38e7-9192-4106-bc40-6ff9166d1552",
   "metadata": {},
   "outputs": [
    {
     "data": {
      "text/plain": [
       "array([0.6477343 , 0.36261448, 0.69078177, 0.06586051])"
      ]
     },
     "execution_count": 16,
     "metadata": {},
     "output_type": "execute_result"
    }
   ],
   "source": [
    "#Crear un array de 4 elementos\n",
    "np.random.rand(4)"
   ]
  },
  {
   "cell_type": "markdown",
   "id": "47be1706-af18-4def-9823-5edbc934d093",
   "metadata": {},
   "source": [
    "### Si queremos generar datos enteros entonces tenemos que usar la función np.random.randint, \n",
    "que admite un argumento obligatorio y dos opcionales:"
   ]
  },
  {
   "cell_type": "code",
   "execution_count": 22,
   "id": "20b7ade2-be26-4136-bc2f-43bf0156cc01",
   "metadata": {},
   "outputs": [
    {
     "name": "stdout",
     "output_type": "stream",
     "text": [
      "[40 12 17 51 37 10 21 32 92  9 29 80 91 36 68  5 38 61 46 85 54  5 75 69\n",
      " 80 44 37 79 69  6 80  9 22 36 75 53 19 97 54 89  2 20 14 14 51 16 56 63\n",
      " 64 38 32  6 87 65 57 68 93 80 26 50 89 93  7 47 60 32 18 30  1 62 68 22\n",
      " 51 82 81 80 39 19 42 42 19  6 10  4 18  2 40 16 88 37 67 95 79 21 35 22\n",
      " 31  8 26 13 61 26 37  7 84 33 19 23 47 17  9 66 37 99 39 34 80 45 26 81\n",
      " 83 93 13 72 79  9 83 92  9  6 34 35 85 30 22 68 96 82 93 99  9 74 93 65\n",
      " 50 87 87 55 98 76 71 30 40  1 78 66 34  7 77 57  5 39 48 16 77 48  7 54\n",
      "  4 55 65  3 75 33 72 60 54 97  3 85 22 10 58 20  4 61 31 59 71 11 21 89\n",
      " 52 49 10 82 43 18 44  3]\n"
     ]
    }
   ],
   "source": [
    "# Crear mi array conde manera aleatoria\n",
    "numeros = np.random.randint(1,100, size=200)\n",
    "print(numeros)"
   ]
  },
  {
   "cell_type": "code",
   "execution_count": 24,
   "id": "05d71115-d759-4492-8aa8-cf34a5da0c4c",
   "metadata": {},
   "outputs": [
    {
     "name": "stdout",
     "output_type": "stream",
     "text": [
      "[[18 48 52]\n",
      " [50 43 56]\n",
      " [31 23 26]]\n"
     ]
    }
   ],
   "source": [
    "# Crear una matriz de 3 x 3\n",
    "matrix = np.random.randint(2,60, size=(3,3))\n",
    "print(matrix)"
   ]
  },
  {
   "cell_type": "markdown",
   "id": "6c4366c8-b04d-4059-96b3-f24509dbbf58",
   "metadata": {},
   "source": [
    "### Utilice la función numpy.random.uniform() para generar números flotantes aleatorios en Python"
   ]
  },
  {
   "cell_type": "code",
   "execution_count": 27,
   "id": "492bc650-a08b-4c38-ad2f-fadfea9c0ea5",
   "metadata": {},
   "outputs": [
    {
     "name": "stdout",
     "output_type": "stream",
     "text": [
      "[40.564697375686364, 40.109121312055954, 37.498447610494765, 31.4635546914646, 24.880150991745815, 42.068611009111265, 30.60602385384296, 58.99486278150502, 54.84169819059672, 29.362550566141312]\n"
     ]
    }
   ],
   "source": [
    "#Generar 10 números flotantes en el rango de números del 0 al 6.\n",
    "random_numbers = np.random.uniform(low=20,high=60, size=10).tolist()\n",
    "print(random_numbers)"
   ]
  },
  {
   "cell_type": "code",
   "execution_count": 28,
   "id": "f88ef99d-adc8-46e5-af92-67c91b0abf46",
   "metadata": {},
   "outputs": [
    {
     "name": "stdout",
     "output_type": "stream",
     "text": [
      "Ingrese cuantos numeros aleatorios desea obtener\n"
     ]
    },
    {
     "name": "stdin",
     "output_type": "stream",
     "text": [
      " 100\n"
     ]
    },
    {
     "name": "stdout",
     "output_type": "stream",
     "text": [
      "[115, 744, 484, 420, 478, 567, 270, 170, 424, 519, 855, 267, 762, 96, 608, 543, 301, 95, 320, 432, 887, 534, 813, 697, 143, 707, 920, 440, 146, 45, 62, 143, 177, 537, 414, 416, 760, 546, 294, 190, 960, 568, 173, 667, 129, 779, 608, 91, 282, 765, 802, 830, 160, 381, 851, 538, 644, 82, 46, 963, 841, 127, 841, 485, 467, 959, 861, 259, 712, 714, 783, 865, 27, 782, 247, 714, 867, 82, 846, 194, 113, 421, 89, 674, 814, 484, 582, 816, 983, 130, 486, 86, 462, 631, 525, 321, 57, 587, 1000, 158]\n"
     ]
    }
   ],
   "source": [
    "#Crear un progrma que nos pregunte cuantos numeros aleatorios queremos generar\n",
    "import random\n",
    "def listaAleatorios(n):\n",
    "      lista = [0]  * n\n",
    "      for i in range(n):\n",
    "          lista[i] = random.randint(0, 1000)\n",
    "      return lista\n",
    "\n",
    "print(\"Ingrese cuantos numeros aleatorios desea obtener\")\n",
    "n=int(input())\n",
    "\n",
    "aleatorios=listaAleatorios(n)\n",
    "print(aleatorios)"
   ]
  },
  {
   "cell_type": "code",
   "execution_count": null,
   "id": "621157b0-57a2-4722-a058-bc24f849c1aa",
   "metadata": {},
   "outputs": [],
   "source": []
  }
 ],
 "metadata": {
  "kernelspec": {
   "display_name": "Python 3 (ipykernel)",
   "language": "python",
   "name": "python3"
  },
  "language_info": {
   "codemirror_mode": {
    "name": "ipython",
    "version": 3
   },
   "file_extension": ".py",
   "mimetype": "text/x-python",
   "name": "python",
   "nbconvert_exporter": "python",
   "pygments_lexer": "ipython3",
   "version": "3.9.12"
  }
 },
 "nbformat": 4,
 "nbformat_minor": 5
}
