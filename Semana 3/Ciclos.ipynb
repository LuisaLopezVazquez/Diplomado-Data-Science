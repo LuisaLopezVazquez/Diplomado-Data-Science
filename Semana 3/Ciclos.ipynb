{
 "cells": [
  {
   "cell_type": "markdown",
   "id": "83707b1b-7341-4af5-a7ad-b1e0f6678721",
   "metadata": {},
   "source": [
    "# Ciclo for"
   ]
  },
  {
   "cell_type": "code",
   "execution_count": 1,
   "id": "c4a7fc13-bda6-42e8-86f8-a103fb62bb8f",
   "metadata": {},
   "outputs": [
    {
     "data": {
      "text/plain": [
       "['lunes', 'martes', 'miercoles', 'jueves', 'viernes', 'sabado', 'domingo']"
      ]
     },
     "execution_count": 1,
     "metadata": {},
     "output_type": "execute_result"
    }
   ],
   "source": [
    "dias_semana=[\"lunes\",\"martes\",\"miercoles\",\"jueves\",\"viernes\",\"sabado\",\"domingo\"]\n",
    "dias_semana"
   ]
  },
  {
   "cell_type": "code",
   "execution_count": 10,
   "id": "601a02aa-53c0-44dd-a07c-af6f1c8bc425",
   "metadata": {},
   "outputs": [],
   "source": [
    "ventas=[25656,15555,155555,15555,8888,]"
   ]
  },
  {
   "cell_type": "code",
   "execution_count": 12,
   "id": "c35dcedc-68ea-4df1-9b45-4d3f7e7fb954",
   "metadata": {},
   "outputs": [
    {
     "name": "stdout",
     "output_type": "stream",
     "text": [
      "25656\n",
      "15555\n",
      "155555\n",
      "15555\n",
      "8888\n"
     ]
    }
   ],
   "source": [
    "for miVenta in ventas:\n",
    "    print(miVenta)"
   ]
  },
  {
   "cell_type": "code",
   "execution_count": 4,
   "id": "d584445f-bb04-488a-818f-9be26d03a5a4",
   "metadata": {},
   "outputs": [
    {
     "name": "stdout",
     "output_type": "stream",
     "text": [
      "1\n",
      "2\n",
      "3\n",
      "4\n",
      "5\n",
      "6\n",
      "7\n",
      "8\n",
      "9\n",
      "10\n"
     ]
    }
   ],
   "source": [
    "# Ciclo While\n",
    "contador=0\n",
    "while contador < 10:\n",
    "    #Agregar las operaciones que desean hasta que cierta condición se cumpla\n",
    "    contador += 1 # Sumamos una unidad cada vez que entra\n",
    "    print(contador)"
   ]
  },
  {
   "cell_type": "code",
   "execution_count": 5,
   "id": "9078f347-fef8-4367-8053-66e516096aec",
   "metadata": {},
   "outputs": [
    {
     "name": "stdout",
     "output_type": "stream",
     "text": [
      "1\n",
      "2\n",
      "3\n",
      "4\n",
      "5\n",
      "6\n",
      "8\n",
      "9\n",
      "10\n"
     ]
    }
   ],
   "source": [
    "contador=0\n",
    "while contador < 10:  #Regresa aqui\n",
    "    contador+=1 # Sumamos una unidad cada vez que entra\n",
    "    if contador==7:\n",
    "        continue #Nos manda al inicio del While\n",
    "    print(contador)"
   ]
  },
  {
   "cell_type": "code",
   "execution_count": 8,
   "id": "9d6cfaec-3773-407f-b48a-8428507a0914",
   "metadata": {},
   "outputs": [
    {
     "name": "stdout",
     "output_type": "stream",
     "text": [
      "1\n",
      "2\n",
      "3\n",
      "4\n",
      "5\n",
      "6\n",
      "7\n",
      "8\n",
      "9\n",
      "10\n",
      "11\n",
      "12\n",
      "13\n",
      "14\n",
      "15\n",
      "16\n",
      "17\n",
      "18\n",
      "19\n",
      "20\n"
     ]
    }
   ],
   "source": [
    "# Ciclo While\n",
    "contador=0\n",
    "while True:\n",
    "    contador += 1 # Sumamos una unidad cada vez que entra\n",
    "    print(contador)\n",
    "    if contador==20:  #Evalua cunado termina el ciclo\n",
    "        break"
   ]
  },
  {
   "cell_type": "code",
   "execution_count": null,
   "id": "19d6eacc-974e-46b9-b92d-8562c4cc0ea0",
   "metadata": {},
   "outputs": [],
   "source": []
  }
 ],
 "metadata": {
  "kernelspec": {
   "display_name": "Python 3 (ipykernel)",
   "language": "python",
   "name": "python3"
  },
  "language_info": {
   "codemirror_mode": {
    "name": "ipython",
    "version": 3
   },
   "file_extension": ".py",
   "mimetype": "text/x-python",
   "name": "python",
   "nbconvert_exporter": "python",
   "pygments_lexer": "ipython3",
   "version": "3.9.12"
  }
 },
 "nbformat": 4,
 "nbformat_minor": 5
}
