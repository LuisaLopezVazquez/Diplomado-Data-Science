{
 "cells": [
  {
   "cell_type": "code",
   "execution_count": 3,
   "id": "802e8295-bf11-4596-82b6-b728e1b514d3",
   "metadata": {},
   "outputs": [
    {
     "name": "stdout",
     "output_type": "stream",
     "text": [
      "El sabor de tu licuado es: platano\n"
     ]
    }
   ],
   "source": [
    "def licuar(fruta):\n",
    "    #Contenido\n",
    "    if fruta==\"fresa\":\n",
    "        print(\"Es sabor de tu licuado es: \"+ fruta)\n",
    "        \n",
    "    elif fruta==\"platano\":\n",
    "        print(\"El sabor de tu licuado es: \"+ fruta)\n",
    "        \n",
    "    elif fruta==\"manzana\":\n",
    "        print(\"El sabor de tu licuado es: \"+ fruta)\n",
    "        \n",
    "sabor_licuado = licuar(\"platano\") # llamamos a la función"
   ]
  },
  {
   "cell_type": "code",
   "execution_count": 5,
   "id": "870b123e-8e19-4a83-8e39-40b97ed78aea",
   "metadata": {},
   "outputs": [
    {
     "name": "stdout",
     "output_type": "stream",
     "text": [
      "buenas noches\n"
     ]
    }
   ],
   "source": [
    "def mensaje(): #Siempre va ir cuando hagan una función\n",
    "    #hacer algo\n",
    "    print(\"buenas noches\")\n",
    "    \n",
    "saludo=mensaje() #Llamar la funcion"
   ]
  },
  {
   "cell_type": "markdown",
   "id": "9156a074-ba4b-4edc-812f-d2b3e70cf486",
   "metadata": {},
   "source": [
    "Paso 1.- Definimos la funcion (def)   \n",
    "Paso 2.- Agregamos contenido en el cuerpo de la función   \n",
    "Paso 3.- Llamamos a la función   "
   ]
  },
  {
   "cell_type": "code",
   "execution_count": null,
   "id": "ba2e731e-ac1f-421a-b797-891adfafcd30",
   "metadata": {},
   "outputs": [],
   "source": []
  }
 ],
 "metadata": {
  "kernelspec": {
   "display_name": "Python 3 (ipykernel)",
   "language": "python",
   "name": "python3"
  },
  "language_info": {
   "codemirror_mode": {
    "name": "ipython",
    "version": 3
   },
   "file_extension": ".py",
   "mimetype": "text/x-python",
   "name": "python",
   "nbconvert_exporter": "python",
   "pygments_lexer": "ipython3",
   "version": "3.9.12"
  }
 },
 "nbformat": 4,
 "nbformat_minor": 5
}
