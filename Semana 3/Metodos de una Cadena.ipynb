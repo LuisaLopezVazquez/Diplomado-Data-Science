{
 "cells": [
  {
   "cell_type": "markdown",
   "id": "f0929ceb-208e-4876-ade0-c187a6c67bb1",
   "metadata": {},
   "source": [
    "## upper()   \n",
    "Devuelve la cadena con todos sus caracteres a mayúscula:"
   ]
  },
  {
   "cell_type": "code",
   "execution_count": 3,
   "id": "3b4f0720-3d7d-46de-a5cb-425e268f2d97",
   "metadata": {},
   "outputs": [],
   "source": [
    "#Objeto\n",
    "frase=\"Python es Divertido\""
   ]
  },
  {
   "cell_type": "code",
   "execution_count": 5,
   "id": "dea80aa8-99af-472e-9695-8d0fde7d28b2",
   "metadata": {},
   "outputs": [
    {
     "data": {
      "text/plain": [
       "'PYTHON ES DIVERTIDO'"
      ]
     },
     "execution_count": 5,
     "metadata": {},
     "output_type": "execute_result"
    }
   ],
   "source": [
    "#cambiar a muyusculas\n",
    "frase.upper()"
   ]
  },
  {
   "cell_type": "markdown",
   "id": "70fdb6e6-a41b-461c-a7b7-a8962a99a005",
   "metadata": {},
   "source": [
    "## lower()\n",
    "Devuelve la cadena con todos sus caracteres a minúscula:"
   ]
  },
  {
   "cell_type": "code",
   "execution_count": 9,
   "id": "e503b2b4-5121-45aa-88f5-ea74143fcded",
   "metadata": {},
   "outputs": [
    {
     "data": {
      "text/plain": [
       "'python es divertido'"
      ]
     },
     "execution_count": 9,
     "metadata": {},
     "output_type": "execute_result"
    }
   ],
   "source": [
    "frase.lower() # Cambiar nuestro texto a minuscylas"
   ]
  },
  {
   "cell_type": "markdown",
   "id": "38856aae-4c1a-45bd-a2b7-ecfdce2ac1b5",
   "metadata": {},
   "source": [
    "## capitalize()\n",
    "Devuelve la cadena con su primer carácter en mayúscula:\n",
    "    "
   ]
  },
  {
   "cell_type": "code",
   "execution_count": 8,
   "id": "62166756-49a8-47d6-80df-eaf4c2b390f4",
   "metadata": {},
   "outputs": [
    {
     "data": {
      "text/plain": [
       "'Python es divertido'"
      ]
     },
     "execution_count": 8,
     "metadata": {},
     "output_type": "execute_result"
    }
   ],
   "source": [
    "frase.capitalize()"
   ]
  },
  {
   "cell_type": "markdown",
   "id": "663b63dc-81e5-4931-b850-3009914e73f4",
   "metadata": {},
   "source": [
    "## title()\n",
    "Devuelve la cadena con el primer carácter de cada palabra en mayúscula:"
   ]
  },
  {
   "cell_type": "code",
   "execution_count": 11,
   "id": "d042b717-c15a-424d-b0e0-563ebd871b6e",
   "metadata": {},
   "outputs": [
    {
     "data": {
      "text/plain": [
       "'Python Es Divertido'"
      ]
     },
     "execution_count": 11,
     "metadata": {},
     "output_type": "execute_result"
    }
   ],
   "source": [
    "frase.title() # Usamos el metodo titulo"
   ]
  },
  {
   "cell_type": "code",
   "execution_count": 18,
   "id": "f5a75ac9-402e-4a7f-9ff1-3f55ed146ae8",
   "metadata": {},
   "outputs": [
    {
     "data": {
      "text/plain": [
       "'Python es Divertido'"
      ]
     },
     "execution_count": 18,
     "metadata": {},
     "output_type": "execute_result"
    }
   ],
   "source": [
    "frase"
   ]
  },
  {
   "cell_type": "markdown",
   "id": "c49c8416-350a-450e-b251-106b4f64ac9d",
   "metadata": {},
   "source": [
    "## count()\n",
    "Devuelve una cuenta de las veces que aparece una subcadena en la cadena:"
   ]
  },
  {
   "cell_type": "code",
   "execution_count": 16,
   "id": "ee7b05a4-b9ca-4ba5-ba7c-f9617d887c26",
   "metadata": {},
   "outputs": [
    {
     "data": {
      "text/plain": [
       "1"
      ]
     },
     "execution_count": 16,
     "metadata": {},
     "output_type": "execute_result"
    }
   ],
   "source": [
    "frase.count('Divertido')"
   ]
  },
  {
   "cell_type": "code",
   "execution_count": 19,
   "id": "520ca627-9fb8-4d2c-8884-6c5f84768c28",
   "metadata": {},
   "outputs": [],
   "source": [
    "numeros=\"123456\""
   ]
  },
  {
   "cell_type": "markdown",
   "id": "802ec7c2-7b22-4e51-bd51-cbed89286abe",
   "metadata": {},
   "source": [
    "## isalnum()\n",
    "Devuelve True si la cadena es todo números o carácteres alfabéticos:"
   ]
  },
  {
   "cell_type": "code",
   "execution_count": 22,
   "id": "62c84222-548f-43f4-aa8e-2391fceda179",
   "metadata": {},
   "outputs": [
    {
     "data": {
      "text/plain": [
       "True"
      ]
     },
     "execution_count": 22,
     "metadata": {},
     "output_type": "execute_result"
    }
   ],
   "source": [
    "numeros.isalnum()"
   ]
  },
  {
   "cell_type": "markdown",
   "id": "a2dede88-ee06-414a-ad93-e266b94ad913",
   "metadata": {},
   "source": [
    "## split()\n",
    "Separa la cadena en subcadenas a partir de sus espacios y devuelve una lista:"
   ]
  },
  {
   "cell_type": "code",
   "execution_count": 32,
   "id": "fc95ad54-1539-42f4-866c-61726b0ae958",
   "metadata": {},
   "outputs": [
    {
     "data": {
      "text/plain": [
       "'rojo,verde,azul,amarillo,cafe'"
      ]
     },
     "execution_count": 32,
     "metadata": {},
     "output_type": "execute_result"
    }
   ],
   "source": [
    "colores=\"rojo,verde,azul,amarillo,cafe\"\n",
    "colores"
   ]
  },
  {
   "cell_type": "code",
   "execution_count": 35,
   "id": "2aa40313-1cd8-4d95-8c1e-08748a6502f5",
   "metadata": {},
   "outputs": [
    {
     "data": {
      "text/plain": [
       "['rojo', 'verde', 'azul', 'amarillo', 'cafe']"
      ]
     },
     "execution_count": 35,
     "metadata": {},
     "output_type": "execute_result"
    }
   ],
   "source": [
    "colores.split(\",\") # Delimitador  \n",
    "#Mi simbolo para separar textos"
   ]
  },
  {
   "cell_type": "markdown",
   "id": "80144ffa-8f49-41c9-b700-92a615fa173e",
   "metadata": {},
   "source": [
    "Podemos indicar el carácter a partir del que se separa:"
   ]
  },
  {
   "cell_type": "code",
   "execution_count": null,
   "id": "a36ce296-e9c3-4f17-be26-754c3030cda4",
   "metadata": {},
   "outputs": [],
   "source": []
  },
  {
   "cell_type": "markdown",
   "id": "edb630ff-d8fa-44e8-9fcc-36b5b8c6a834",
   "metadata": {},
   "source": [
    "## strip()\n",
    "Borra todos los espacios por delante y detrás de una cadena y la devuelve:"
   ]
  },
  {
   "cell_type": "code",
   "execution_count": 46,
   "id": "757f8cc8-8594-478f-b93a-b8dea013b390",
   "metadata": {},
   "outputs": [
    {
     "data": {
      "text/plain": [
       "'Es bonito'"
      ]
     },
     "execution_count": 46,
     "metadata": {},
     "output_type": "execute_result"
    }
   ],
   "source": [
    "carro=\"Es bonito\"\n",
    "carro"
   ]
  },
  {
   "cell_type": "code",
   "execution_count": 48,
   "id": "af8e2836-f87d-48ae-a608-cd531570a23f",
   "metadata": {},
   "outputs": [
    {
     "data": {
      "text/plain": [
       "'Es bonito'"
      ]
     },
     "execution_count": 48,
     "metadata": {},
     "output_type": "execute_result"
    }
   ],
   "source": [
    "carro.strip()"
   ]
  },
  {
   "cell_type": "code",
   "execution_count": 49,
   "id": "d4989f0e-6857-4cf8-9824-b880fdec4149",
   "metadata": {},
   "outputs": [
    {
     "data": {
      "text/plain": [
       "'es bonito'"
      ]
     },
     "execution_count": 49,
     "metadata": {},
     "output_type": "execute_result"
    }
   ],
   "source": [
    "carro.lower()"
   ]
  },
  {
   "cell_type": "code",
   "execution_count": 50,
   "id": "cc3fa458-86c9-4762-a307-6232fcfcaf96",
   "metadata": {},
   "outputs": [
    {
     "data": {
      "text/plain": [
       "'ES BONITO'"
      ]
     },
     "execution_count": 50,
     "metadata": {},
     "output_type": "execute_result"
    }
   ],
   "source": [
    "carro.upper()"
   ]
  },
  {
   "cell_type": "code",
   "execution_count": 45,
   "id": "51c6f2fb-08a6-4958-99fc-5c4615bd8cc6",
   "metadata": {},
   "outputs": [
    {
     "data": {
      "text/plain": [
       "'   ciencia de datos '"
      ]
     },
     "execution_count": 45,
     "metadata": {},
     "output_type": "execute_result"
    }
   ],
   "source": [
    "palabra.lower()"
   ]
  },
  {
   "cell_type": "markdown",
   "id": "a0b1cbf2-c6cc-437a-853d-6f36fee07230",
   "metadata": {},
   "source": [
    "## replace()\n",
    "Reemplaza una subcadena de una cadena por otra y la devuelve:"
   ]
  },
  {
   "cell_type": "code",
   "execution_count": 40,
   "id": "d543fec6-2c5d-470d-a10b-7fdef930cf9c",
   "metadata": {},
   "outputs": [
    {
     "data": {
      "text/plain": [
       "'   Cienci10 de D10tos '"
      ]
     },
     "execution_count": 40,
     "metadata": {},
     "output_type": "execute_result"
    }
   ],
   "source": [
    "palabra.replace(\"a\",\"10\") # Primer ponemos lo que vamos a cambiar y despues lo que queremos tener"
   ]
  },
  {
   "cell_type": "code",
   "execution_count": null,
   "id": "1faca975-f414-4994-98e8-200b77fd2df3",
   "metadata": {},
   "outputs": [],
   "source": []
  }
 ],
 "metadata": {
  "kernelspec": {
   "display_name": "Python 3 (ipykernel)",
   "language": "python",
   "name": "python3"
  },
  "language_info": {
   "codemirror_mode": {
    "name": "ipython",
    "version": 3
   },
   "file_extension": ".py",
   "mimetype": "text/x-python",
   "name": "python",
   "nbconvert_exporter": "python",
   "pygments_lexer": "ipython3",
   "version": "3.9.12"
  }
 },
 "nbformat": 4,
 "nbformat_minor": 5
}
