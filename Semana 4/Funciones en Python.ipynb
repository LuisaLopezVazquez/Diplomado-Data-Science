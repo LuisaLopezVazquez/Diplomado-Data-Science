{
 "cells": [
  {
   "cell_type": "code",
   "execution_count": 3,
   "id": "802e8295-bf11-4596-82b6-b728e1b514d3",
   "metadata": {},
   "outputs": [
    {
     "name": "stdout",
     "output_type": "stream",
     "text": [
      "El sabor de tu licuado es: platano\n"
     ]
    }
   ],
   "source": [
    "def licuar(fruta):\n",
    "    #Contenido\n",
    "    if fruta==\"fresa\":\n",
    "        print(\"Es sabor de tu licuado es: \"+ fruta)\n",
    "        \n",
    "    elif fruta==\"platano\":\n",
    "        print(\"El sabor de tu licuado es: \"+ fruta)\n",
    "        \n",
    "    elif fruta==\"manzana\":\n",
    "        print(\"El sabor de tu licuado es: \"+ fruta)\n",
    "        \n",
    "sabor_licuado = licuar(\"platano\") # llamamos a la función"
   ]
  },
  {
   "cell_type": "code",
   "execution_count": 5,
   "id": "870b123e-8e19-4a83-8e39-40b97ed78aea",
   "metadata": {},
   "outputs": [
    {
     "name": "stdout",
     "output_type": "stream",
     "text": [
      "buenas noches\n"
     ]
    }
   ],
   "source": [
    "def mensaje(): #Siempre va ir cuando hagan una función\n",
    "    #hacer algo\n",
    "    print(\"buenas noches\")\n",
    "    \n",
    "saludo=mensaje() #Llamar la funcion"
   ]
  },
  {
   "cell_type": "markdown",
   "id": "9156a074-ba4b-4edc-812f-d2b3e70cf486",
   "metadata": {},
   "source": [
    "Paso 1.- Definimos la funcion (def)   \n",
    "Paso 2.- Agregamos contenido en el cuerpo de la función   \n",
    "Paso 3.- Llamamos a la función   "
   ]
  },
  {
   "cell_type": "markdown",
   "id": "b60f7373-8ee6-476d-bf5e-965af8e4320b",
   "metadata": {},
   "source": [
    "== Se usa para comparar dos valores y ver si son iguales ejemplo 1==1   \n",
    "!= Se usa para comparar dos valores y ver sin diferentes 1!=1   \n",
    "=  Estamo asigando un valor  \n"
   ]
  },
  {
   "cell_type": "code",
   "execution_count": 1,
   "id": "ba2e731e-ac1f-421a-b797-891adfafcd30",
   "metadata": {},
   "outputs": [
    {
     "name": "stdout",
     "output_type": "stream",
     "text": [
      "56\n",
      "40\n",
      "384\n",
      "6.0\n"
     ]
    }
   ],
   "source": [
    "def operacione_arit(numero1,numero2):\n",
    "    #contenido\n",
    "    suma = numero1 + numero2\n",
    "    resta=numero1 - numero2\n",
    "    multp=numero1 * numero2\n",
    "    div=numero1 / numero2\n",
    "    return suma,resta,multp,div\n",
    "\n",
    "#Llamar a la funcion\n",
    "guardaSuma,guardeResta,guardeMult,GuardeDiv = operacione_arit(48,8)\n",
    "#Imprimir resultados\n",
    "print(guardaSuma)\n",
    "print(guardeResta)\n",
    "print(guardeMult)\n",
    "print(GuardeDiv)"
   ]
  },
  {
   "cell_type": "code",
   "execution_count": 2,
   "id": "8c57b274-3cea-4b64-a4a5-b602dcd45a29",
   "metadata": {},
   "outputs": [
    {
     "name": "stdin",
     "output_type": "stream",
     "text": [
      "Introduce el radio: 5\n"
     ]
    },
    {
     "name": "stdout",
     "output_type": "stream",
     "text": [
      "78.53981633974483\n",
      "31.41592653589793\n"
     ]
    }
   ],
   "source": [
    "import math\n",
    "def calcular_area(radio):\n",
    "    \n",
    "    area = math.pi * radio **2 \n",
    "    perimetro = 2*math.pi* radio\n",
    "    \n",
    "    return area, perimetro\n",
    "\n",
    "radio=float(input('Introduce el radio:'))\n",
    "\n",
    "#Llamamo a la funcion\n",
    "guardaArea, guardaPerimetro=calcular_area(radio)\n",
    "\n",
    "#Imprimo lo reultados\n",
    "print(guardaArea)\n",
    "print(guardaPerimetro)\n",
    "\n",
    "    "
   ]
  },
  {
   "cell_type": "code",
   "execution_count": null,
   "id": "c7c80a9e-fe90-4fc7-81ed-3198badc3d11",
   "metadata": {},
   "outputs": [],
   "source": []
  }
 ],
 "metadata": {
  "kernelspec": {
   "display_name": "Python 3 (ipykernel)",
   "language": "python",
   "name": "python3"
  },
  "language_info": {
   "codemirror_mode": {
    "name": "ipython",
    "version": 3
   },
   "file_extension": ".py",
   "mimetype": "text/x-python",
   "name": "python",
   "nbconvert_exporter": "python",
   "pygments_lexer": "ipython3",
   "version": "3.9.12"
  }
 },
 "nbformat": 4,
 "nbformat_minor": 5
}
