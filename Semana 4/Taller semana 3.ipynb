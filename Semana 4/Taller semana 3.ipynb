{
 "cells": [
  {
   "cell_type": "code",
   "execution_count": 1,
   "id": "af46f62b-2d5e-4768-8e8a-de9c652abdf1",
   "metadata": {},
   "outputs": [
    {
     "data": {
      "text/plain": [
       "['Yahir', 'Perla', 'Jose', 'Sonia', 'Pedro']"
      ]
     },
     "execution_count": 1,
     "metadata": {},
     "output_type": "execute_result"
    }
   ],
   "source": [
    "nombres=[\"Yahir\",\"Perla\",\"Jose\",\"Sonia\",\"Pedro\"]\n",
    "nombres"
   ]
  },
  {
   "cell_type": "code",
   "execution_count": 2,
   "id": "88481303-76c7-4321-9507-3ddfb524c440",
   "metadata": {},
   "outputs": [
    {
     "data": {
      "text/plain": [
       "['Yahir', 'Perla', 'Jose', 'Sonia', 'Pedro', 'Maria']"
      ]
     },
     "execution_count": 2,
     "metadata": {},
     "output_type": "execute_result"
    }
   ],
   "source": [
    "nombres.append(\"Maria\") #Permite agregar un elemento\n",
    "nombres"
   ]
  },
  {
   "cell_type": "code",
   "execution_count": 3,
   "id": "21f3e890-d8ff-407d-8f31-622f5b782be8",
   "metadata": {},
   "outputs": [
    {
     "data": {
      "text/plain": [
       "['Yahir', 'Perla', 'Jose', 'Sonia', 'Pedro', 'Maria', 'Raul', 'Karla']"
      ]
     },
     "execution_count": 3,
     "metadata": {},
     "output_type": "execute_result"
    }
   ],
   "source": [
    "nombres.extend([\"Raul\",\"Karla\"]) #Agregamos varios elementos a la lista\n",
    "nombres"
   ]
  },
  {
   "cell_type": "code",
   "execution_count": 6,
   "id": "54c0b5d4-7e7a-4650-b9f6-98cfcf119550",
   "metadata": {},
   "outputs": [
    {
     "ename": "ValueError",
     "evalue": "list.remove(x): x not in list",
     "output_type": "error",
     "traceback": [
      "\u001b[1;31m---------------------------------------------------------------------------\u001b[0m",
      "\u001b[1;31mValueError\u001b[0m                                Traceback (most recent call last)",
      "Input \u001b[1;32mIn [6]\u001b[0m, in \u001b[0;36m<cell line: 1>\u001b[1;34m()\u001b[0m\n\u001b[1;32m----> 1\u001b[0m \u001b[43mnombres\u001b[49m\u001b[38;5;241;43m.\u001b[39;49m\u001b[43mremove\u001b[49m\u001b[43m(\u001b[49m\u001b[38;5;124;43m'\u001b[39;49m\u001b[38;5;124;43mJose\u001b[39;49m\u001b[38;5;124;43m'\u001b[39;49m\u001b[43m)\u001b[49m\n",
      "\u001b[1;31mValueError\u001b[0m: list.remove(x): x not in list"
     ]
    }
   ],
   "source": [
    "nombres.remove('Jose') # permite eliminar un elemento de la lista "
   ]
  },
  {
   "cell_type": "code",
   "execution_count": 5,
   "id": "565fccde-9c91-4ed2-9762-eba697778282",
   "metadata": {},
   "outputs": [
    {
     "data": {
      "text/plain": [
       "['Yahir', 'Perla', 'Sonia', 'Pedro', 'Maria', 'Raul', 'Karla']"
      ]
     },
     "execution_count": 5,
     "metadata": {},
     "output_type": "execute_result"
    }
   ],
   "source": [
    "nombres"
   ]
  },
  {
   "cell_type": "code",
   "execution_count": 9,
   "id": "5d87f0a2-da65-442f-8c92-c542f1348ca0",
   "metadata": {},
   "outputs": [
    {
     "data": {
      "text/plain": [
       "'Maria'"
      ]
     },
     "execution_count": 9,
     "metadata": {},
     "output_type": "execute_result"
    }
   ],
   "source": [
    "nombres[4] #Para consultar un elemento de la lista"
   ]
  },
  {
   "cell_type": "code",
   "execution_count": 11,
   "id": "9f4b0f96-590a-4f8f-98c9-83d160bcf2c2",
   "metadata": {},
   "outputs": [
    {
     "data": {
      "text/plain": [
       "7"
      ]
     },
     "execution_count": 11,
     "metadata": {},
     "output_type": "execute_result"
    }
   ],
   "source": [
    "total=len(nombres) #Obtiene el tamaño de la lista\n",
    "total"
   ]
  },
  {
   "cell_type": "code",
   "execution_count": 12,
   "id": "471737a8-cd55-4c34-b3d5-10e86b340ecd",
   "metadata": {},
   "outputs": [
    {
     "data": {
      "text/plain": [
       "['Yahir', 'Perla', 'Sonia', 'Pedro', 'Maria', 'Raul', 'Karla', 56, 58, 59]"
      ]
     },
     "execution_count": 12,
     "metadata": {},
     "output_type": "execute_result"
    }
   ],
   "source": [
    "nombres.extend([56,58,59])\n",
    "nombres"
   ]
  },
  {
   "cell_type": "code",
   "execution_count": 13,
   "id": "52fd1a61-dace-41bb-8493-8276ebfe02a6",
   "metadata": {},
   "outputs": [
    {
     "data": {
      "text/plain": [
       "10"
      ]
     },
     "execution_count": 13,
     "metadata": {},
     "output_type": "execute_result"
    }
   ],
   "source": [
    "total=len(nombres) #Obtiene el tamaño de la lista\n",
    "total"
   ]
  },
  {
   "cell_type": "code",
   "execution_count": 14,
   "id": "b1fa7daa-33a1-40bb-ac7e-bac83dc957bc",
   "metadata": {},
   "outputs": [
    {
     "data": {
      "text/plain": [
       "['Yahir',\n",
       " 'Juan',\n",
       " 'Perla',\n",
       " 'Sonia',\n",
       " 'Pedro',\n",
       " 'Maria',\n",
       " 'Raul',\n",
       " 'Karla',\n",
       " 56,\n",
       " 58,\n",
       " 59]"
      ]
     },
     "execution_count": 14,
     "metadata": {},
     "output_type": "execute_result"
    }
   ],
   "source": [
    "nombres.insert(1,\"Juan\")\n",
    "nombres"
   ]
  },
  {
   "cell_type": "code",
   "execution_count": 15,
   "id": "00af36c7-1216-46f9-94e5-b49b63aeb989",
   "metadata": {},
   "outputs": [],
   "source": [
    "nombres.remove('Perla') # permite eliminar un elemento de la lista "
   ]
  },
  {
   "cell_type": "code",
   "execution_count": 16,
   "id": "e15ade57-5205-4256-ae67-ea8f82172ab5",
   "metadata": {},
   "outputs": [
    {
     "data": {
      "text/plain": [
       "['Yahir',\n",
       " 'Juan',\n",
       " 'David',\n",
       " 'Sonia',\n",
       " 'Pedro',\n",
       " 'Maria',\n",
       " 'Raul',\n",
       " 'Karla',\n",
       " 56,\n",
       " 58,\n",
       " 59]"
      ]
     },
     "execution_count": 16,
     "metadata": {},
     "output_type": "execute_result"
    }
   ],
   "source": [
    "nombres.insert(2,\"David\")\n",
    "nombres"
   ]
  },
  {
   "cell_type": "code",
   "execution_count": 17,
   "id": "6f809939-4881-4752-8221-da35015560fc",
   "metadata": {},
   "outputs": [
    {
     "data": {
      "text/plain": [
       "[89, 2, 56, 2, 20, 2]"
      ]
     },
     "execution_count": 17,
     "metadata": {},
     "output_type": "execute_result"
    }
   ],
   "source": [
    "lista=[89,2,56,2,20,2]\n",
    "lista"
   ]
  },
  {
   "cell_type": "code",
   "execution_count": 18,
   "id": "ea93f09f-87ce-4e82-bd43-e765d40cfb51",
   "metadata": {},
   "outputs": [
    {
     "data": {
      "text/plain": [
       "list"
      ]
     },
     "execution_count": 18,
     "metadata": {},
     "output_type": "execute_result"
    }
   ],
   "source": [
    "type(lista) # Regresa el tipo de dato"
   ]
  },
  {
   "cell_type": "code",
   "execution_count": 19,
   "id": "883a638a-ee90-49ea-adea-bb53c43fd09d",
   "metadata": {},
   "outputs": [
    {
     "data": {
      "text/plain": [
       "[2, 2, 2, 20, 56, 89]"
      ]
     },
     "execution_count": 19,
     "metadata": {},
     "output_type": "execute_result"
    }
   ],
   "source": [
    "lista.sort() #Para ordenar los numeros\n",
    "lista"
   ]
  },
  {
   "cell_type": "code",
   "execution_count": 21,
   "id": "6bc322a5-cbe7-486d-8fa7-909d7d331aa3",
   "metadata": {},
   "outputs": [
    {
     "data": {
      "text/plain": [
       "89"
      ]
     },
     "execution_count": 21,
     "metadata": {},
     "output_type": "execute_result"
    }
   ],
   "source": [
    "max(lista) #Regresa al numero mas grande"
   ]
  },
  {
   "cell_type": "code",
   "execution_count": 23,
   "id": "8aab6070-4365-429b-96d5-e4c64571f8bb",
   "metadata": {},
   "outputs": [
    {
     "data": {
      "text/plain": [
       "2"
      ]
     },
     "execution_count": 23,
     "metadata": {},
     "output_type": "execute_result"
    }
   ],
   "source": [
    "min(lista) #Regresa el valor mas pequeño"
   ]
  },
  {
   "cell_type": "code",
   "execution_count": 24,
   "id": "25ed1cfc-6973-410a-8ff2-56c702df81a2",
   "metadata": {},
   "outputs": [
    {
     "data": {
      "text/plain": [
       "6"
      ]
     },
     "execution_count": 24,
     "metadata": {},
     "output_type": "execute_result"
    }
   ],
   "source": [
    "len(lista)"
   ]
  },
  {
   "cell_type": "code",
   "execution_count": 26,
   "id": "a91dd718-f676-47e1-b806-d8e18606ee64",
   "metadata": {},
   "outputs": [
    {
     "data": {
      "text/plain": [
       "3"
      ]
     },
     "execution_count": 26,
     "metadata": {},
     "output_type": "execute_result"
    }
   ],
   "source": [
    "lista.count(2) #Cuenta el numero de elementos que tiene la lista"
   ]
  },
  {
   "cell_type": "code",
   "execution_count": 29,
   "id": "77211a51-c2de-4024-9abc-d5f8543f558b",
   "metadata": {},
   "outputs": [
    {
     "data": {
      "text/plain": [
       "[89, 56, 20, 2, 2, 2]"
      ]
     },
     "execution_count": 29,
     "metadata": {},
     "output_type": "execute_result"
    }
   ],
   "source": [
    "lista.reverse()\n",
    "lista"
   ]
  },
  {
   "cell_type": "code",
   "execution_count": 40,
   "id": "4dd5f66a-5c77-4a2a-afea-63715e736411",
   "metadata": {},
   "outputs": [
    {
     "data": {
      "text/plain": [
       "{'M': 'Mexico', 'A': 'Argentina', 'C': 'Canada', 'J': 'Japón'}"
      ]
     },
     "execution_count": 40,
     "metadata": {},
     "output_type": "execute_result"
    }
   ],
   "source": [
    "dicc_pais={\"M\":\"Mexico\", \"A\":\"Argentina\", \"C\":\"Canada\" , \"J\":\"Japón\"} # Permite crear el diccionario\n",
    "dicc_pais"
   ]
  },
  {
   "cell_type": "code",
   "execution_count": 32,
   "id": "1bd01740-103d-4d23-a130-6ebe2e71d507",
   "metadata": {},
   "outputs": [
    {
     "data": {
      "text/plain": [
       "{'01': 'Mexico', '02': 'Argentina', '03': 'Canada', '04': 'Italia'}"
      ]
     },
     "execution_count": 32,
     "metadata": {},
     "output_type": "execute_result"
    }
   ],
   "source": [
    "dicc_pais['04']='Italia' # Permite agregar una nueva clave - valor al diccionario\n",
    "dicc_pais"
   ]
  },
  {
   "cell_type": "code",
   "execution_count": 33,
   "id": "a472ca5b-c328-4297-bf79-9c8fe266a91f",
   "metadata": {},
   "outputs": [
    {
     "data": {
      "text/plain": [
       "{'01': 'Mexico', '02': 'Argentina', '03': 'Canada'}"
      ]
     },
     "execution_count": 33,
     "metadata": {},
     "output_type": "execute_result"
    }
   ],
   "source": [
    "del dicc_pais['04'] #Permite eliminar un elemento del diccionario\n",
    "dicc_pais"
   ]
  },
  {
   "cell_type": "code",
   "execution_count": 38,
   "id": "bfce7cc4-6f3b-47d0-ba3b-ab54f2d1a057",
   "metadata": {},
   "outputs": [
    {
     "name": "stdout",
     "output_type": "stream",
     "text": [
      "Canada\n"
     ]
    }
   ],
   "source": [
    "print(dicc_pais['03'] )"
   ]
  },
  {
   "cell_type": "code",
   "execution_count": 36,
   "id": "28c616e0-7b48-4ade-bcee-07d22dc29d4e",
   "metadata": {},
   "outputs": [
    {
     "data": {
      "text/plain": [
       "{'nic1': '4678', 'nic2': '8723'}"
      ]
     },
     "execution_count": 36,
     "metadata": {},
     "output_type": "execute_result"
    }
   ],
   "source": [
    "dicc_nicc={\"nic1\": \"4678\",\"nic2\":\"8723\"}\n",
    "dicc_nicc"
   ]
  },
  {
   "cell_type": "code",
   "execution_count": 37,
   "id": "36d9c4bc-a3cb-4f52-940c-f70546e2da10",
   "metadata": {},
   "outputs": [
    {
     "data": {
      "text/plain": [
       "{'nic1': '4678', 'nic2': '0000'}"
      ]
     },
     "execution_count": 37,
     "metadata": {},
     "output_type": "execute_result"
    }
   ],
   "source": [
    "dicc_nicc.update({\"nic2\":\"0000\"}) #Actualiza un diccionario\n",
    "dicc_nicc"
   ]
  },
  {
   "cell_type": "code",
   "execution_count": 41,
   "id": "e9601827-428e-4fb5-a24e-272da1ef7d18",
   "metadata": {},
   "outputs": [
    {
     "data": {
      "text/plain": [
       "{'valor1': 56, 'valor2': 98, 'valor3': 24}"
      ]
     },
     "execution_count": 41,
     "metadata": {},
     "output_type": "execute_result"
    }
   ],
   "source": [
    "dicc_numerico={\"valor1\":56, \"valor2\": 98, \"valor3\" : 24}\n",
    "dicc_numerico"
   ]
  },
  {
   "cell_type": "code",
   "execution_count": 42,
   "id": "e3063b2a-510a-45e6-83ce-788cbdd0c162",
   "metadata": {},
   "outputs": [
    {
     "data": {
      "text/plain": [
       "('manzana', 'naranja', 'fresa', 'mango')"
      ]
     },
     "execution_count": 42,
     "metadata": {},
     "output_type": "execute_result"
    }
   ],
   "source": [
    "tupla_frutas=(\"manzana\",\"naranja\",\"fresa\",\"mango\") #Creación de una tupla\n",
    "tupla_frutas"
   ]
  },
  {
   "cell_type": "code",
   "execution_count": 44,
   "id": "f50ba4fa-48d1-436b-87d0-cb6041694de4",
   "metadata": {},
   "outputs": [
    {
     "data": {
      "text/plain": [
       "tuple"
      ]
     },
     "execution_count": 44,
     "metadata": {},
     "output_type": "execute_result"
    }
   ],
   "source": [
    "type(tupla_frutas) #Muestra el tipo de dato"
   ]
  },
  {
   "cell_type": "code",
   "execution_count": 45,
   "id": "9ca171ae-7e88-471c-85a2-a857eb2e8ce0",
   "metadata": {},
   "outputs": [
    {
     "ename": "TypeError",
     "evalue": "'tuple' object is not callable",
     "output_type": "error",
     "traceback": [
      "\u001b[1;31m---------------------------------------------------------------------------\u001b[0m",
      "\u001b[1;31mTypeError\u001b[0m                                 Traceback (most recent call last)",
      "Input \u001b[1;32mIn [45]\u001b[0m, in \u001b[0;36m<cell line: 1>\u001b[1;34m()\u001b[0m\n\u001b[1;32m----> 1\u001b[0m \u001b[43mtupla_frutas\u001b[49m\u001b[43m(\u001b[49m\u001b[38;5;241;43m0\u001b[39;49m\u001b[43m,\u001b[49m\u001b[38;5;124;43m\"\u001b[39;49m\u001b[38;5;124;43msandia\u001b[39;49m\u001b[38;5;124;43m\"\u001b[39;49m\u001b[43m)\u001b[49m\n\u001b[0;32m      2\u001b[0m tupla_frutas\n",
      "\u001b[1;31mTypeError\u001b[0m: 'tuple' object is not callable"
     ]
    }
   ],
   "source": []
  },
  {
   "cell_type": "markdown",
   "id": "9a2db7b8-2301-4986-800e-5d0d6f49f9ca",
   "metadata": {},
   "source": [
    "Trabajo con funciones"
   ]
  },
  {
   "cell_type": "code",
   "execution_count": 48,
   "id": "b4064f30-a1bd-43ab-aeee-fa416ba9c238",
   "metadata": {},
   "outputs": [],
   "source": [
    "def licuar(fruta):\n",
    "    if fruta==\"fresa\":\n",
    "        print(\"El sabor de tu licuado es:\" + fruta)\n",
    "    elif fruta==\"platano\":\n",
    "        print(\"El sabor de tu licuado es:\" + fruta)\n",
    "    elif fruta==\"manzana\":\n",
    "        print(\"El sabor de tu licuado es: \" + fruta)\n",
    "sabor = licuar(\"platano\") # Llamamos a la  funcion"
   ]
  },
  {
   "cell_type": "code",
   "execution_count": 52,
   "id": "aaf2daac-b0c1-4d1e-b9f5-a23e669b8613",
   "metadata": {},
   "outputs": [
    {
     "name": "stdout",
     "output_type": "stream",
     "text": [
      "56\n",
      "40\n",
      "384\n",
      "6.0\n"
     ]
    }
   ],
   "source": [
    "def operaciones_ari(a,b):\n",
    "    suma=a+b\n",
    "    resta=a-b\n",
    "    mult=a*b\n",
    "    div=a/b\n",
    "    return suma,resta,mult,div # Regresa varios resultados\n",
    "\n",
    "suma,resta,mult,div=operaciones_ari(48,8)  #Llamamos a la funcion y le pasamos los parametros\n",
    "print(suma)\n",
    "print(resta)\n",
    "print(mult)\n",
    "print(div)"
   ]
  },
  {
   "cell_type": "code",
   "execution_count": null,
   "id": "ac521813-d930-49b1-a502-e122df62ff86",
   "metadata": {},
   "outputs": [],
   "source": [
    "import math\n",
    "def calcular_area(radio):\n",
    "    area= math.pi * radio **2\n",
    "    perimetro=2*math.pi* radio\n",
    "    return area,perimetro\n",
    "\n",
    "radio = float(input(\"Introduce el radio:\"))\n",
    "\n",
    "area,perimetro=calcular_area(radio)  #Llama la funcion\n",
    "print(\"Area\", area)\n",
    "print(\"Perímetro\", perimetro)"
   ]
  },
  {
   "cell_type": "code",
   "execution_count": null,
   "id": "59481f61-841f-4433-a982-383eb2bc8eac",
   "metadata": {},
   "outputs": [],
   "source": []
  }
 ],
 "metadata": {
  "kernelspec": {
   "display_name": "Python 3 (ipykernel)",
   "language": "python",
   "name": "python3"
  },
  "language_info": {
   "codemirror_mode": {
    "name": "ipython",
    "version": 3
   },
   "file_extension": ".py",
   "mimetype": "text/x-python",
   "name": "python",
   "nbconvert_exporter": "python",
   "pygments_lexer": "ipython3",
   "version": "3.9.12"
  }
 },
 "nbformat": 4,
 "nbformat_minor": 5
}
