{
 "cells": [
  {
   "cell_type": "code",
   "execution_count": 1,
   "id": "8e9fff49-9e46-47ae-8e1b-6e2d216725f8",
   "metadata": {},
   "outputs": [
    {
     "data": {
      "text/plain": [
       "[89, 2, 56, 2, 20, 2]"
      ]
     },
     "execution_count": 1,
     "metadata": {},
     "output_type": "execute_result"
    }
   ],
   "source": [
    "lista=[89,2,56,2,20,2]\n",
    "lista"
   ]
  },
  {
   "cell_type": "code",
   "execution_count": 4,
   "id": "1a4c95f1-69d9-4731-9961-f3a8c0206ec5",
   "metadata": {},
   "outputs": [
    {
     "data": {
      "text/plain": [
       "list"
      ]
     },
     "execution_count": 4,
     "metadata": {},
     "output_type": "execute_result"
    }
   ],
   "source": [
    "type(lista)"
   ]
  },
  {
   "cell_type": "code",
   "execution_count": 12,
   "id": "d145f457-822c-44f1-9484-3bec7f5d9c67",
   "metadata": {},
   "outputs": [
    {
     "data": {
      "text/plain": [
       "[2, 2, 20, 56, 89]"
      ]
     },
     "execution_count": 12,
     "metadata": {},
     "output_type": "execute_result"
    }
   ],
   "source": [
    "lista.sort()\n",
    "lista"
   ]
  },
  {
   "cell_type": "code",
   "execution_count": 7,
   "id": "3d70a1cc-6ae9-4a01-b60b-6621b8b0ecd9",
   "metadata": {},
   "outputs": [
    {
     "data": {
      "text/plain": [
       "89"
      ]
     },
     "execution_count": 7,
     "metadata": {},
     "output_type": "execute_result"
    }
   ],
   "source": [
    "max(lista)"
   ]
  },
  {
   "cell_type": "code",
   "execution_count": 9,
   "id": "6a79c66f-42ca-4ea2-9284-56ad44b96f0e",
   "metadata": {},
   "outputs": [
    {
     "data": {
      "text/plain": [
       "4"
      ]
     },
     "execution_count": 9,
     "metadata": {},
     "output_type": "execute_result"
    }
   ],
   "source": [
    "len(lista)"
   ]
  },
  {
   "cell_type": "code",
   "execution_count": 10,
   "id": "f306691e-6baf-490f-b4ca-c42e5509c770",
   "metadata": {},
   "outputs": [
    {
     "data": {
      "text/plain": [
       "2"
      ]
     },
     "execution_count": 10,
     "metadata": {},
     "output_type": "execute_result"
    }
   ],
   "source": [
    "min(lista)"
   ]
  },
  {
   "cell_type": "code",
   "execution_count": 15,
   "id": "f648f2e2-dcd3-445f-9316-5f545f1d3f45",
   "metadata": {},
   "outputs": [
    {
     "data": {
      "text/plain": [
       "3"
      ]
     },
     "execution_count": 15,
     "metadata": {},
     "output_type": "execute_result"
    }
   ],
   "source": [
    "lista.count(2)"
   ]
  },
  {
   "cell_type": "code",
   "execution_count": 17,
   "id": "02cf37c5-545f-47a0-907e-377e54c4e48d",
   "metadata": {},
   "outputs": [
    {
     "data": {
      "text/plain": [
       "[89, 2, 56, 2, 20, 2]"
      ]
     },
     "execution_count": 17,
     "metadata": {},
     "output_type": "execute_result"
    }
   ],
   "source": [
    "lista.reverse()\n",
    "lista"
   ]
  },
  {
   "cell_type": "code",
   "execution_count": null,
   "id": "29a388d0-06e0-4929-b1df-c96ea5e99b52",
   "metadata": {},
   "outputs": [
    {
     "name": "stdout",
     "output_type": "stream",
     "text": [
      "7764\n",
      "6845\n"
     ]
    }
   ],
   "source": [
    "diccionario[\"nic1\"] = \"7764\"\n",
    "print(diccionario[\"nic1\"])\n",
    "\n",
    "diccionario[\"nic2\"] = \"6845\"\n",
    "print(diccionario[\"nic2\"])"
   ]
  },
  {
   "cell_type": "code",
   "execution_count": 56,
   "id": "15077cca-9035-419f-ad4b-979637120ad0",
   "metadata": {},
   "outputs": [
    {
     "name": "stdout",
     "output_type": "stream",
     "text": [
      "1715\n"
     ]
    }
   ],
   "source": [
    "diccionario.update({\"nic2\": \"1715\"})\n",
    "print(diccionario[\"nic2\"])"
   ]
  },
  {
   "cell_type": "code",
   "execution_count": 57,
   "id": "b080faff-6a71-4719-8aee-9e3eaa928232",
   "metadata": {},
   "outputs": [
    {
     "name": "stdout",
     "output_type": "stream",
     "text": [
      "{'nic1': '7764', 'nic2': '1715'}\n"
     ]
    }
   ],
   "source": [
    "print(diccionario)"
   ]
  },
  {
   "cell_type": "code",
   "execution_count": 58,
   "id": "aa384c55-ccd5-4adf-8783-1279483b52d3",
   "metadata": {},
   "outputs": [
    {
     "name": "stdout",
     "output_type": "stream",
     "text": [
      "{'nic1': '7764'}\n"
     ]
    }
   ],
   "source": [
    "diccionario.pop(\"nic2\")\n",
    "print(diccionario)"
   ]
  },
  {
   "cell_type": "code",
   "execution_count": 54,
   "id": "27cee6b7-8fd7-4db4-940b-785077b166d1",
   "metadata": {},
   "outputs": [],
   "source": []
  },
  {
   "cell_type": "code",
   "execution_count": null,
   "id": "c61d922e-0c91-4406-966c-89153bb6d39d",
   "metadata": {},
   "outputs": [],
   "source": []
  }
 ],
 "metadata": {
  "kernelspec": {
   "display_name": "Python 3 (ipykernel)",
   "language": "python",
   "name": "python3"
  },
  "language_info": {
   "codemirror_mode": {
    "name": "ipython",
    "version": 3
   },
   "file_extension": ".py",
   "mimetype": "text/x-python",
   "name": "python",
   "nbconvert_exporter": "python",
   "pygments_lexer": "ipython3",
   "version": "3.9.12"
  }
 },
 "nbformat": 4,
 "nbformat_minor": 5
}
