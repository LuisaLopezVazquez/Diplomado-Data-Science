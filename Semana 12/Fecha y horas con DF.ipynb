{
 "cells": [
  {
   "cell_type": "code",
   "execution_count": 1,
   "id": "f3a7b56e-fd25-4bc9-aabe-a5d4d0ea4aa2",
   "metadata": {},
   "outputs": [],
   "source": [
    "import datetime\n",
    "import numpy as np\n",
    "import pandas as pd\n",
    "df = pd.DataFrame()\n",
    "date = [datetime.datetime(2018, 1, 1) + datetime.timedelta(days=x) for x in range(0, 365)]\n",
    "value = list(np.random.randint(low=0, high=100, size=365))\n",
    "df['date'] = pd.to_datetime(date)\n",
    "df.index = df['date']\n",
    "df['value'] = value"
   ]
  },
  {
   "cell_type": "code",
   "execution_count": 2,
   "id": "10ec7cba-cf34-4c9d-98aa-d4abd1def9e8",
   "metadata": {},
   "outputs": [
    {
     "data": {
      "text/html": [
       "<div>\n",
       "<style scoped>\n",
       "    .dataframe tbody tr th:only-of-type {\n",
       "        vertical-align: middle;\n",
       "    }\n",
       "\n",
       "    .dataframe tbody tr th {\n",
       "        vertical-align: top;\n",
       "    }\n",
       "\n",
       "    .dataframe thead th {\n",
       "        text-align: right;\n",
       "    }\n",
       "</style>\n",
       "<table border=\"1\" class=\"dataframe\">\n",
       "  <thead>\n",
       "    <tr style=\"text-align: right;\">\n",
       "      <th></th>\n",
       "      <th>date</th>\n",
       "      <th>value</th>\n",
       "    </tr>\n",
       "    <tr>\n",
       "      <th>date</th>\n",
       "      <th></th>\n",
       "      <th></th>\n",
       "    </tr>\n",
       "  </thead>\n",
       "  <tbody>\n",
       "    <tr>\n",
       "      <th>2018-01-01</th>\n",
       "      <td>2018-01-01</td>\n",
       "      <td>61</td>\n",
       "    </tr>\n",
       "    <tr>\n",
       "      <th>2018-01-02</th>\n",
       "      <td>2018-01-02</td>\n",
       "      <td>59</td>\n",
       "    </tr>\n",
       "    <tr>\n",
       "      <th>2018-01-03</th>\n",
       "      <td>2018-01-03</td>\n",
       "      <td>0</td>\n",
       "    </tr>\n",
       "    <tr>\n",
       "      <th>2018-01-04</th>\n",
       "      <td>2018-01-04</td>\n",
       "      <td>79</td>\n",
       "    </tr>\n",
       "    <tr>\n",
       "      <th>2018-01-05</th>\n",
       "      <td>2018-01-05</td>\n",
       "      <td>71</td>\n",
       "    </tr>\n",
       "  </tbody>\n",
       "</table>\n",
       "</div>"
      ],
      "text/plain": [
       "                 date  value\n",
       "date                        \n",
       "2018-01-01 2018-01-01     61\n",
       "2018-01-02 2018-01-02     59\n",
       "2018-01-03 2018-01-03      0\n",
       "2018-01-04 2018-01-04     79\n",
       "2018-01-05 2018-01-05     71"
      ]
     },
     "execution_count": 2,
     "metadata": {},
     "output_type": "execute_result"
    }
   ],
   "source": [
    "df.head()"
   ]
  },
  {
   "cell_type": "markdown",
   "id": "e58294d1-c2c4-440a-855c-2b37fa7f0008",
   "metadata": {},
   "source": [
    "D: Día natural\n",
    "B: Día hábil\n",
    "W: semanal (último día de la semana)\n",
    "M: mensual (último día del mes)\n",
    "SM: bimensual (el día 15 y último del mes)\n",
    "Q: trimestral (último día del trimestre)"
   ]
  },
  {
   "cell_type": "markdown",
   "id": "577260fb-ac32-4d06-9c13-09e2babc5d59",
   "metadata": {},
   "source": [
    "El listado completo de las opciones disponibles se puede encontrar en la documentación de pandas (http://pandas.pydata.org/pandas-docs/stable/timeseries.html). Por ejemplo, para obtener la media trimestral de los datos por trimestre se puede utilizar:"
   ]
  },
  {
   "cell_type": "code",
   "execution_count": 4,
   "id": "a47f3a5f-3830-40f4-9f18-31a4fc1e1873",
   "metadata": {},
   "outputs": [
    {
     "data": {
      "text/html": [
       "<div>\n",
       "<style scoped>\n",
       "    .dataframe tbody tr th:only-of-type {\n",
       "        vertical-align: middle;\n",
       "    }\n",
       "\n",
       "    .dataframe tbody tr th {\n",
       "        vertical-align: top;\n",
       "    }\n",
       "\n",
       "    .dataframe thead th {\n",
       "        text-align: right;\n",
       "    }\n",
       "</style>\n",
       "<table border=\"1\" class=\"dataframe\">\n",
       "  <thead>\n",
       "    <tr style=\"text-align: right;\">\n",
       "      <th></th>\n",
       "      <th>value</th>\n",
       "    </tr>\n",
       "    <tr>\n",
       "      <th>date</th>\n",
       "      <th></th>\n",
       "    </tr>\n",
       "  </thead>\n",
       "  <tbody>\n",
       "    <tr>\n",
       "      <th>2018-03-31</th>\n",
       "      <td>54.711111</td>\n",
       "    </tr>\n",
       "    <tr>\n",
       "      <th>2018-06-30</th>\n",
       "      <td>50.879121</td>\n",
       "    </tr>\n",
       "    <tr>\n",
       "      <th>2018-09-30</th>\n",
       "      <td>49.956522</td>\n",
       "    </tr>\n",
       "    <tr>\n",
       "      <th>2018-12-31</th>\n",
       "      <td>46.804348</td>\n",
       "    </tr>\n",
       "  </tbody>\n",
       "</table>\n",
       "</div>"
      ],
      "text/plain": [
       "                value\n",
       "date                 \n",
       "2018-03-31  54.711111\n",
       "2018-06-30  50.879121\n",
       "2018-09-30  49.956522\n",
       "2018-12-31  46.804348"
      ]
     },
     "execution_count": 4,
     "metadata": {},
     "output_type": "execute_result"
    }
   ],
   "source": [
    "df.resample('Q').mean()"
   ]
  },
  {
   "cell_type": "code",
   "execution_count": 5,
   "id": "ac090987-0b0c-480b-99a9-bfafb63bacd6",
   "metadata": {},
   "outputs": [
    {
     "data": {
      "text/plain": [
       "date\n",
       "2018-01-01    1\n",
       "2018-01-02    1\n",
       "2018-01-03    1\n",
       "2018-01-04    1\n",
       "2018-01-05    1\n",
       "             ..\n",
       "2018-12-27    4\n",
       "2018-12-28    4\n",
       "2018-12-29    4\n",
       "2018-12-30    4\n",
       "2018-12-31    4\n",
       "Name: date, Length: 365, dtype: int64"
      ]
     },
     "execution_count": 5,
     "metadata": {},
     "output_type": "execute_result"
    }
   ],
   "source": [
    "df['date'].dt.quarter"
   ]
  },
  {
   "cell_type": "code",
   "execution_count": 6,
   "id": "d9d6a113-5039-4521-8b52-aa4f3afcf338",
   "metadata": {},
   "outputs": [
    {
     "data": {
      "text/html": [
       "<div>\n",
       "<style scoped>\n",
       "    .dataframe tbody tr th:only-of-type {\n",
       "        vertical-align: middle;\n",
       "    }\n",
       "\n",
       "    .dataframe tbody tr th {\n",
       "        vertical-align: top;\n",
       "    }\n",
       "\n",
       "    .dataframe thead th {\n",
       "        text-align: right;\n",
       "    }\n",
       "</style>\n",
       "<table border=\"1\" class=\"dataframe\">\n",
       "  <thead>\n",
       "    <tr style=\"text-align: right;\">\n",
       "      <th></th>\n",
       "      <th>value</th>\n",
       "    </tr>\n",
       "    <tr>\n",
       "      <th>date</th>\n",
       "      <th></th>\n",
       "    </tr>\n",
       "  </thead>\n",
       "  <tbody>\n",
       "    <tr>\n",
       "      <th>1</th>\n",
       "      <td>54.711111</td>\n",
       "    </tr>\n",
       "    <tr>\n",
       "      <th>2</th>\n",
       "      <td>50.879121</td>\n",
       "    </tr>\n",
       "    <tr>\n",
       "      <th>3</th>\n",
       "      <td>49.956522</td>\n",
       "    </tr>\n",
       "    <tr>\n",
       "      <th>4</th>\n",
       "      <td>46.804348</td>\n",
       "    </tr>\n",
       "  </tbody>\n",
       "</table>\n",
       "</div>"
      ],
      "text/plain": [
       "          value\n",
       "date           \n",
       "1     54.711111\n",
       "2     50.879121\n",
       "3     49.956522\n",
       "4     46.804348"
      ]
     },
     "execution_count": 6,
     "metadata": {},
     "output_type": "execute_result"
    }
   ],
   "source": [
    "df.groupby(df['date'].dt.quarter).mean()"
   ]
  },
  {
   "cell_type": "markdown",
   "id": "11510963-ed2a-4ae3-ad14-1893fe818f09",
   "metadata": {},
   "source": [
    "https://www.analyticslane.com/2018/07/06/agrupacion-de-datos-por-fecha-en-pandas/"
   ]
  },
  {
   "cell_type": "code",
   "execution_count": null,
   "id": "ae131247-0a5a-460b-b552-0affedb0a3ea",
   "metadata": {},
   "outputs": [],
   "source": []
  }
 ],
 "metadata": {
  "kernelspec": {
   "display_name": "Python 3 (ipykernel)",
   "language": "python",
   "name": "python3"
  },
  "language_info": {
   "codemirror_mode": {
    "name": "ipython",
    "version": 3
   },
   "file_extension": ".py",
   "mimetype": "text/x-python",
   "name": "python",
   "nbconvert_exporter": "python",
   "pygments_lexer": "ipython3",
   "version": "3.9.12"
  }
 },
 "nbformat": 4,
 "nbformat_minor": 5
}
