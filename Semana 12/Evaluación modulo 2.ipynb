{
 "cells": [
  {
   "cell_type": "markdown",
   "id": "9d31fc22-83ff-427b-ab8b-fe9624222b74",
   "metadata": {},
   "source": [
    "# Actividad de Evaluación del Módulo 2\n",
    "# Bases de Datos"
   ]
  },
  {
   "cell_type": "markdown",
   "id": "e9b3c4a7-46fe-4035-a807-7b4775d7a190",
   "metadata": {},
   "source": [
    "1.- Crear la conexión a la base de datos punto de venta"
   ]
  },
  {
   "cell_type": "markdown",
   "id": "1115d878-4ea5-4945-9312-cb1e2f5f853e",
   "metadata": {
    "tags": []
   },
   "source": [
    "2.- Obtener el total de ventas por producto, mostrarlo en un DataFrame"
   ]
  },
  {
   "cell_type": "markdown",
   "id": "74f9a511-05d1-4241-a445-cb2337561840",
   "metadata": {},
   "source": [
    "3.- Graficar el total de ventas por producto "
   ]
  },
  {
   "cell_type": "markdown",
   "id": "1ef395d5-8d6a-47a6-b153-6264c9172df2",
   "metadata": {},
   "source": [
    "4.- Inserte un nuevo producto en la tabla productos"
   ]
  },
  {
   "cell_type": "markdown",
   "id": "9785dd91-e983-4b67-a51a-38957b75de67",
   "metadata": {},
   "source": [
    "5.- Elimine un codigo postal de la tabla codigo_postal"
   ]
  }
 ],
 "metadata": {
  "kernelspec": {
   "display_name": "Python 3 (ipykernel)",
   "language": "python",
   "name": "python3"
  },
  "language_info": {
   "codemirror_mode": {
    "name": "ipython",
    "version": 3
   },
   "file_extension": ".py",
   "mimetype": "text/x-python",
   "name": "python",
   "nbconvert_exporter": "python",
   "pygments_lexer": "ipython3",
   "version": "3.9.12"
  }
 },
 "nbformat": 4,
 "nbformat_minor": 5
}
