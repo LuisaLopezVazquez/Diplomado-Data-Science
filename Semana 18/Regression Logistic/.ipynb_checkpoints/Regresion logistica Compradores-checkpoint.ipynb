{
 "cells": [
  {
   "cell_type": "code",
   "execution_count": 1,
   "id": "5d90bccf-5f99-40be-af33-b3e811d1a27a",
   "metadata": {},
   "outputs": [],
   "source": [
    "import pandas as pd\n",
    "import matplotlib.pyplot as plt\n",
    "import numpy as np"
   ]
  },
  {
   "cell_type": "code",
   "execution_count": 2,
   "id": "5c426814-2423-4017-b96a-5daa60fbe7d2",
   "metadata": {},
   "outputs": [],
   "source": [
    "# Cargar el set de datos\n"
   ]
  },
  {
   "cell_type": "code",
   "execution_count": null,
   "id": "e8cce7e6-7432-4070-97b1-579a148449e5",
   "metadata": {},
   "outputs": [],
   "source": []
  },
  {
   "cell_type": "code",
   "execution_count": 3,
   "id": "2e8335c8-4560-4f94-8bb5-5739d23e1fd3",
   "metadata": {},
   "outputs": [],
   "source": [
    "# Dividir los datos en entrenamiento y datos de prueba\n",
    "from sklearn.model_selection import train_test_split\n"
   ]
  },
  {
   "cell_type": "code",
   "execution_count": null,
   "id": "d072e291-2009-4c5a-a933-f9882f9f8527",
   "metadata": {},
   "outputs": [],
   "source": []
  },
  {
   "cell_type": "code",
   "execution_count": 4,
   "id": "e99df134-b04c-4381-aa5b-3b5b89f7ce6e",
   "metadata": {},
   "outputs": [],
   "source": [
    "# escalacion de datos\n",
    "from sklearn.preprocessing import StandardScaler\n"
   ]
  },
  {
   "cell_type": "code",
   "execution_count": 5,
   "id": "814fba65-1c55-40af-a206-c7370da90cb4",
   "metadata": {},
   "outputs": [],
   "source": [
    "#Crear el modelo de regrsion logistica\n",
    "from sklearn.linear_model import LogisticRegression\n"
   ]
  },
  {
   "cell_type": "code",
   "execution_count": 6,
   "id": "f3d988a7-9756-4cf1-aca7-4c9c6a8bd655",
   "metadata": {},
   "outputs": [],
   "source": [
    "# usamos los datos de pruebas\n"
   ]
  },
  {
   "cell_type": "code",
   "execution_count": 7,
   "id": "7f27202c-a74d-43ef-bb6f-7e1a437130b9",
   "metadata": {},
   "outputs": [],
   "source": [
    "from sklearn.metrics import confusion_matrix\n"
   ]
  },
  {
   "cell_type": "code",
   "execution_count": null,
   "id": "1032462f-bf37-4c60-bea2-ec918edd2297",
   "metadata": {},
   "outputs": [],
   "source": []
  },
  {
   "cell_type": "markdown",
   "id": "070f6ff3-9379-4b91-b819-3cafb0507aca",
   "metadata": {},
   "source": [
    "confusion matriz, observamos dos clases 0/1   \n",
    "Hay 63 registros que debian ser clase 0 y los predijo correctamente    \n",
    "pero hay 5 registros que deberian de ser clase 0 y los predijo como 1 es son incorrectos    \n",
    "\n",
    "Hay 24 registros que deberian de ser clase 1 y los predijo correctamente    \n",
    "Hay 8 registros que berian de ser clase 1 y los predijo como clase 0 es decir son incorrectos    "
   ]
  },
  {
   "cell_type": "markdown",
   "id": "f0d2e433-66b3-4e75-b089-be062745e7d0",
   "metadata": {},
   "source": [
    "clase 0= personas que no compraron   \n",
    "clase 1= personas que si compraron"
   ]
  },
  {
   "cell_type": "code",
   "execution_count": null,
   "id": "6d7a3849-9f7f-4fc5-82a6-a966f3ede001",
   "metadata": {},
   "outputs": [],
   "source": []
  },
  {
   "cell_type": "markdown",
   "id": "16932f0e-ef65-4d0d-8470-8d9071aeff99",
   "metadata": {},
   "source": [
    "# 0.87 es equivalente al 87%\n",
    "Para esta prediccion pues tuvimos este porcetaje "
   ]
  },
  {
   "cell_type": "code",
   "execution_count": 9,
   "id": "93706408-fb19-42cd-bad0-95cbf7103843",
   "metadata": {},
   "outputs": [],
   "source": [
    "#Arboles de decisión\n",
    "from sklearn.tree import DecisionTreeClassifier\n"
   ]
  },
  {
   "cell_type": "code",
   "execution_count": 10,
   "id": "ee4675bd-814d-4e0a-9ce4-5491ee051e19",
   "metadata": {},
   "outputs": [],
   "source": [
    "# Crear el modelo utilzando la libreria de arboles de desicion\n"
   ]
  },
  {
   "cell_type": "code",
   "execution_count": 11,
   "id": "b180780a-0a2f-4153-98d0-434734d99825",
   "metadata": {},
   "outputs": [],
   "source": [
    "#Estamos haciando la prediccion\n"
   ]
  },
  {
   "cell_type": "code",
   "execution_count": null,
   "id": "93793292-8c1a-4646-a8c2-d6f217a47b63",
   "metadata": {},
   "outputs": [],
   "source": []
  },
  {
   "cell_type": "code",
   "execution_count": null,
   "id": "44d885cf-5ceb-4f7d-9e14-49dbc160371b",
   "metadata": {},
   "outputs": [],
   "source": []
  },
  {
   "cell_type": "code",
   "execution_count": null,
   "id": "e2dcf7f9-4e61-4fe2-9a0d-37404af85e85",
   "metadata": {},
   "outputs": [],
   "source": []
  },
  {
   "cell_type": "code",
   "execution_count": 12,
   "id": "7ec57637-e2e5-4b03-95a8-fc8514791e45",
   "metadata": {},
   "outputs": [],
   "source": [
    " # El porcentaje de acierto de arboles de desicion 90%"
   ]
  },
  {
   "cell_type": "code",
   "execution_count": 13,
   "id": "48485b08-9115-4135-84b7-923812a64cb2",
   "metadata": {},
   "outputs": [],
   "source": [
    "#Visualización de los resultados de prueba\n",
    "from matplotlib.colors import ListedColormap\n"
   ]
  },
  {
   "cell_type": "code",
   "execution_count": null,
   "id": "318dd5d4-9d99-457b-a6b7-907a403b0944",
   "metadata": {},
   "outputs": [],
   "source": []
  }
 ],
 "metadata": {
  "kernelspec": {
   "display_name": "Python 3 (ipykernel)",
   "language": "python",
   "name": "python3"
  },
  "language_info": {
   "codemirror_mode": {
    "name": "ipython",
    "version": 3
   },
   "file_extension": ".py",
   "mimetype": "text/x-python",
   "name": "python",
   "nbconvert_exporter": "python",
   "pygments_lexer": "ipython3",
   "version": "3.9.12"
  }
 },
 "nbformat": 4,
 "nbformat_minor": 5
}
