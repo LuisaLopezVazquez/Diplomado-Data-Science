{
 "cells": [
  {
   "cell_type": "markdown",
   "id": "d60a3eb4-28ec-4fda-9ec4-61b149735764",
   "metadata": {},
   "source": [
    "<h2><font color=\"#004D7F\" size=6>Módulo 4. Machine Learning</font></h2>\n",
    "\n",
    "<h1><font color=\"#004D7F\" size=5>1. Redes Neuronales </font></h1>\n",
    "\n",
    "<h1><font color=\"#004D7F\" size=5>2. Tensorflow  </font></h1>\n",
    "<br>\n",
    "<div style=\"text-align: right\">\n",
    "<font color=\"#004D7F\" size=3>Luisa López Vázquez</font><br>\n",
    "<font color=\"#004D7F\" size=3>Diplomado en Ciencia de Datos</font><br>"
   ]
  },
  {
   "cell_type": "markdown",
   "id": "5a8838d3-8a76-4e75-904f-d4f37a762286",
   "metadata": {},
   "source": [
    "En esta ocasión te traemos el ejemplo más, pero más básico que te puedes encontrar, donde con datos x,y (minutos vs carga de batería de un celular) hacemos una regresión lineal simple utilizando Google Colab. Utilizamos tres capas ocultas para la red neuronal,además que hacemos la gráfica de las predicciones vs los valores reales, y una predicción para un valor. Este ejemplo te podría ser de utilidad para adaptarlo a tus datos."
   ]
  },
  {
   "cell_type": "code",
   "execution_count": 1,
   "id": "09c728fe-3735-48b2-9cce-7442aafc3ac3",
   "metadata": {},
   "outputs": [
    {
     "name": "stdout",
     "output_type": "stream",
     "text": [
      "   minutos  bateria\n",
      "0        0        5\n",
      "1        4       10\n",
      "2        8       14\n",
      "3       12       19\n",
      "4       16       24\n",
      "5       20       28\n",
      "6       24       33\n",
      "Index(['minutos', 'bateria'], dtype='object')\n"
     ]
    }
   ],
   "source": [
    "import pandas as pd\n",
    "df=pd.read_csv('datosbateria.csv')\n",
    "print(df.head(7))\n",
    "print(df.columns)"
   ]
  },
  {
   "cell_type": "code",
   "execution_count": 2,
   "id": "3ce41f1f-69cd-48b7-822b-8a32e58c865a",
   "metadata": {},
   "outputs": [],
   "source": [
    "x=df['minutos']\n",
    "y=df['bateria']"
   ]
  },
  {
   "cell_type": "code",
   "execution_count": 3,
   "id": "85ae8f52-2c28-4cec-a8cf-2b04411e3455",
   "metadata": {},
   "outputs": [
    {
     "name": "stdout",
     "output_type": "stream",
     "text": [
      "Requirement already satisfied: keras in c:\\programdata\\anaconda3\\lib\\site-packages (2.10.0)\n"
     ]
    }
   ],
   "source": [
    "!pip install keras"
   ]
  },
  {
   "cell_type": "code",
   "execution_count": 4,
   "id": "a38b3462-b0d1-4ca7-a2eb-74c78a624929",
   "metadata": {},
   "outputs": [
    {
     "name": "stdout",
     "output_type": "stream",
     "text": [
      "Requirement already satisfied: tensorflow in c:\\programdata\\anaconda3\\lib\\site-packages (2.10.0)\n",
      "Requirement already satisfied: numpy>=1.20 in c:\\programdata\\anaconda3\\lib\\site-packages (from tensorflow) (1.21.5)\n",
      "Requirement already satisfied: keras-preprocessing>=1.1.1 in c:\\programdata\\anaconda3\\lib\\site-packages (from tensorflow) (1.1.2)\n",
      "Requirement already satisfied: setuptools in c:\\programdata\\anaconda3\\lib\\site-packages (from tensorflow) (61.2.0)\n",
      "Requirement already satisfied: tensorflow-io-gcs-filesystem>=0.23.1 in c:\\programdata\\anaconda3\\lib\\site-packages (from tensorflow) (0.27.0)\n",
      "Requirement already satisfied: tensorboard<2.11,>=2.10 in c:\\programdata\\anaconda3\\lib\\site-packages (from tensorflow) (2.10.0)\n",
      "Requirement already satisfied: google-pasta>=0.1.1 in c:\\programdata\\anaconda3\\lib\\site-packages (from tensorflow) (0.2.0)\n",
      "Requirement already satisfied: wrapt>=1.11.0 in c:\\programdata\\anaconda3\\lib\\site-packages (from tensorflow) (1.12.1)\n",
      "Requirement already satisfied: flatbuffers>=2.0 in c:\\programdata\\anaconda3\\lib\\site-packages (from tensorflow) (2.0.7)\n",
      "Requirement already satisfied: opt-einsum>=2.3.2 in c:\\programdata\\anaconda3\\lib\\site-packages (from tensorflow) (3.3.0)\n",
      "Requirement already satisfied: protobuf<3.20,>=3.9.2 in c:\\programdata\\anaconda3\\lib\\site-packages (from tensorflow) (3.19.1)\n",
      "Requirement already satisfied: packaging in c:\\programdata\\anaconda3\\lib\\site-packages (from tensorflow) (21.3)\n",
      "Requirement already satisfied: grpcio<2.0,>=1.24.3 in c:\\programdata\\anaconda3\\lib\\site-packages (from tensorflow) (1.42.0)\n",
      "Requirement already satisfied: keras<2.11,>=2.10.0 in c:\\programdata\\anaconda3\\lib\\site-packages (from tensorflow) (2.10.0)\n",
      "Requirement already satisfied: libclang>=13.0.0 in c:\\programdata\\anaconda3\\lib\\site-packages (from tensorflow) (14.0.6)\n",
      "Requirement already satisfied: typing-extensions>=3.6.6 in c:\\programdata\\anaconda3\\lib\\site-packages (from tensorflow) (4.1.1)\n",
      "Requirement already satisfied: termcolor>=1.1.0 in c:\\programdata\\anaconda3\\lib\\site-packages (from tensorflow) (2.0.1)\n",
      "Requirement already satisfied: tensorflow-estimator<2.11,>=2.10.0 in c:\\programdata\\anaconda3\\lib\\site-packages (from tensorflow) (2.10.0)\n",
      "Requirement already satisfied: six>=1.12.0 in c:\\programdata\\anaconda3\\lib\\site-packages (from tensorflow) (1.16.0)\n",
      "Requirement already satisfied: gast<=0.4.0,>=0.2.1 in c:\\programdata\\anaconda3\\lib\\site-packages (from tensorflow) (0.4.0)\n",
      "Requirement already satisfied: absl-py>=1.0.0 in c:\\programdata\\anaconda3\\lib\\site-packages (from tensorflow) (1.2.0)\n",
      "Requirement already satisfied: h5py>=2.9.0 in c:\\programdata\\anaconda3\\lib\\site-packages (from tensorflow) (3.6.0)\n",
      "Requirement already satisfied: astunparse>=1.6.0 in c:\\programdata\\anaconda3\\lib\\site-packages (from tensorflow) (1.6.3)\n",
      "Requirement already satisfied: wheel<1.0,>=0.23.0 in c:\\programdata\\anaconda3\\lib\\site-packages (from astunparse>=1.6.0->tensorflow) (0.37.1)\n",
      "Requirement already satisfied: tensorboard-plugin-wit>=1.6.0 in c:\\programdata\\anaconda3\\lib\\site-packages (from tensorboard<2.11,>=2.10->tensorflow) (1.8.1)\n",
      "Requirement already satisfied: google-auth<3,>=1.6.3 in c:\\programdata\\anaconda3\\lib\\site-packages (from tensorboard<2.11,>=2.10->tensorflow) (1.33.0)\n",
      "Requirement already satisfied: werkzeug>=1.0.1 in c:\\programdata\\anaconda3\\lib\\site-packages (from tensorboard<2.11,>=2.10->tensorflow) (2.0.3)\n",
      "Requirement already satisfied: tensorboard-data-server<0.7.0,>=0.6.0 in c:\\programdata\\anaconda3\\lib\\site-packages (from tensorboard<2.11,>=2.10->tensorflow) (0.6.1)\n",
      "Requirement already satisfied: requests<3,>=2.21.0 in c:\\programdata\\anaconda3\\lib\\site-packages (from tensorboard<2.11,>=2.10->tensorflow) (2.27.1)\n",
      "Requirement already satisfied: markdown>=2.6.8 in c:\\programdata\\anaconda3\\lib\\site-packages (from tensorboard<2.11,>=2.10->tensorflow) (3.3.4)\n",
      "Requirement already satisfied: google-auth-oauthlib<0.5,>=0.4.1 in c:\\programdata\\anaconda3\\lib\\site-packages (from tensorboard<2.11,>=2.10->tensorflow) (0.4.6)\n",
      "Requirement already satisfied: cachetools<5.0,>=2.0.0 in c:\\programdata\\anaconda3\\lib\\site-packages (from google-auth<3,>=1.6.3->tensorboard<2.11,>=2.10->tensorflow) (4.2.2)\n",
      "Requirement already satisfied: rsa<5,>=3.1.4 in c:\\programdata\\anaconda3\\lib\\site-packages (from google-auth<3,>=1.6.3->tensorboard<2.11,>=2.10->tensorflow) (4.7.2)\n",
      "Requirement already satisfied: pyasn1-modules>=0.2.1 in c:\\programdata\\anaconda3\\lib\\site-packages (from google-auth<3,>=1.6.3->tensorboard<2.11,>=2.10->tensorflow) (0.2.8)\n",
      "Requirement already satisfied: requests-oauthlib>=0.7.0 in c:\\programdata\\anaconda3\\lib\\site-packages (from google-auth-oauthlib<0.5,>=0.4.1->tensorboard<2.11,>=2.10->tensorflow) (1.3.1)\n",
      "Requirement already satisfied: pyasn1<0.5.0,>=0.4.6 in c:\\programdata\\anaconda3\\lib\\site-packages (from pyasn1-modules>=0.2.1->google-auth<3,>=1.6.3->tensorboard<2.11,>=2.10->tensorflow) (0.4.8)\n",
      "Requirement already satisfied: certifi>=2017.4.17 in c:\\programdata\\anaconda3\\lib\\site-packages (from requests<3,>=2.21.0->tensorboard<2.11,>=2.10->tensorflow) (2021.10.8)\n",
      "Requirement already satisfied: charset-normalizer~=2.0.0 in c:\\programdata\\anaconda3\\lib\\site-packages (from requests<3,>=2.21.0->tensorboard<2.11,>=2.10->tensorflow) (2.0.4)\n",
      "Requirement already satisfied: urllib3<1.27,>=1.21.1 in c:\\programdata\\anaconda3\\lib\\site-packages (from requests<3,>=2.21.0->tensorboard<2.11,>=2.10->tensorflow) (1.26.9)\n",
      "Requirement already satisfied: idna<4,>=2.5 in c:\\programdata\\anaconda3\\lib\\site-packages (from requests<3,>=2.21.0->tensorboard<2.11,>=2.10->tensorflow) (3.3)\n",
      "Requirement already satisfied: oauthlib>=3.0.0 in c:\\programdata\\anaconda3\\lib\\site-packages (from requests-oauthlib>=0.7.0->google-auth-oauthlib<0.5,>=0.4.1->tensorboard<2.11,>=2.10->tensorflow) (3.2.1)\n",
      "Requirement already satisfied: pyparsing!=3.0.5,>=2.0.2 in c:\\programdata\\anaconda3\\lib\\site-packages (from packaging->tensorflow) (3.0.4)\n"
     ]
    }
   ],
   "source": [
    "!pip install tensorflow"
   ]
  },
  {
   "cell_type": "code",
   "execution_count": 5,
   "id": "ccf53bc6-66b8-4757-8e28-c806f3637ae9",
   "metadata": {},
   "outputs": [],
   "source": [
    "import keras\n",
    "import keras.backend as kb\n",
    "import tensorflow as tf"
   ]
  },
  {
   "cell_type": "code",
   "execution_count": 6,
   "id": "f03eedaf-e759-41f3-a768-a012b0eef668",
   "metadata": {},
   "outputs": [],
   "source": [
    "model = keras.Sequential([\n",
    "   keras.layers.Dense(7, activation=tf.nn.relu, input_shape=[1]), # usamos una columna podemos usar mas columnas\n",
    "   keras.layers.Dense(7, activation=tf.nn.relu),\n",
    "   keras.layers.Dense(3, activation=tf.nn.relu),\n",
    "   keras.layers.Dense(1)\n",
    "])\n",
    "#modelo de red tenemos 3 capas ocultas 7,7,3\n",
    "#pidemos cambiarloa a 32 o 64 que tambien es comun\n",
    "#"
   ]
  },
  {
   "cell_type": "code",
   "execution_count": 7,
   "id": "cbf73089-4d52-4da2-9ba0-0ba17d5ef3ab",
   "metadata": {},
   "outputs": [],
   "source": [
    "optimizer = tf.keras.optimizers.RMSprop(learning_rate=0.01) #RMSprop es el otimizador hay otro que se llama Adan\n",
    "# la razon de aprendizaje es 0.01\n",
    "# por ejemplo queremos reducir el erro a 0.001 tal vez necesitemos aumentar lo epocs para poder tener un resultado adeucado\n",
    "# tambien podmeos modificar el numero de neuronas"
   ]
  },
  {
   "cell_type": "code",
   "execution_count": 8,
   "id": "984d4c2e-c466-4710-8627-8306e7895484",
   "metadata": {},
   "outputs": [],
   "source": [
    "model.compile(loss='mean_squared_error', # promedio del cuadrado del error\n",
    "              optimizer=optimizer,\n",
    "              metrics=['mean_absolute_error','mean_squared_error'] #metricas evaluamos que tambien se comporta el modelo\n",
    "              )"
   ]
  },
  {
   "cell_type": "code",
   "execution_count": 9,
   "id": "bc9f62a2-68a0-4c0b-9770-558802d79303",
   "metadata": {},
   "outputs": [
    {
     "name": "stdout",
     "output_type": "stream",
     "text": [
      "Epoch 1/100\n",
      "1/1 [==============================] - 1s 840ms/step - loss: 1330.9607 - mean_absolute_error: 32.2849 - mean_squared_error: 1330.9607\n",
      "Epoch 2/100\n",
      "1/1 [==============================] - 0s 10ms/step - loss: 1227.6361 - mean_absolute_error: 31.0249 - mean_squared_error: 1227.6361\n",
      "Epoch 3/100\n",
      "1/1 [==============================] - 0s 0s/step - loss: 1135.9153 - mean_absolute_error: 29.8604 - mean_squared_error: 1135.9153\n",
      "Epoch 4/100\n",
      "1/1 [==============================] - 0s 0s/step - loss: 1040.2832 - mean_absolute_error: 28.6006 - mean_squared_error: 1040.2832\n",
      "Epoch 5/100\n",
      "1/1 [==============================] - 0s 0s/step - loss: 942.6064 - mean_absolute_error: 27.2544 - mean_squared_error: 942.6064\n",
      "Epoch 6/100\n",
      "1/1 [==============================] - 0s 0s/step - loss: 842.5316 - mean_absolute_error: 25.8022 - mean_squared_error: 842.5316\n",
      "Epoch 7/100\n",
      "1/1 [==============================] - 0s 0s/step - loss: 741.4153 - mean_absolute_error: 24.2455 - mean_squared_error: 741.4153\n",
      "Epoch 8/100\n",
      "1/1 [==============================] - 0s 0s/step - loss: 641.1534 - mean_absolute_error: 22.5938 - mean_squared_error: 641.1534\n",
      "Epoch 9/100\n",
      "1/1 [==============================] - 0s 10ms/step - loss: 543.7711 - mean_absolute_error: 20.8619 - mean_squared_error: 543.7711\n",
      "Epoch 10/100\n",
      "1/1 [==============================] - 0s 0s/step - loss: 451.1960 - mean_absolute_error: 19.0651 - mean_squared_error: 451.1960\n",
      "Epoch 11/100\n",
      "1/1 [==============================] - 0s 10ms/step - loss: 365.7800 - mean_absolute_error: 17.2359 - mean_squared_error: 365.7800\n",
      "Epoch 12/100\n",
      "1/1 [==============================] - 0s 0s/step - loss: 289.0926 - mean_absolute_error: 15.4004 - mean_squared_error: 289.0926\n",
      "Epoch 13/100\n",
      "1/1 [==============================] - 0s 10ms/step - loss: 222.4432 - mean_absolute_error: 13.5931 - mean_squared_error: 222.4432\n",
      "Epoch 14/100\n",
      "1/1 [==============================] - 0s 0s/step - loss: 165.6497 - mean_absolute_error: 11.8177 - mean_squared_error: 165.6497\n",
      "Epoch 15/100\n",
      "1/1 [==============================] - 0s 0s/step - loss: 118.9898 - mean_absolute_error: 10.1101 - mean_squared_error: 118.9898\n",
      "Epoch 16/100\n",
      "1/1 [==============================] - 0s 10ms/step - loss: 81.9533 - mean_absolute_error: 8.4886 - mean_squared_error: 81.9533\n",
      "Epoch 17/100\n",
      "1/1 [==============================] - 0s 0s/step - loss: 54.1041 - mean_absolute_error: 6.9956 - mean_squared_error: 54.1041\n",
      "Epoch 18/100\n",
      "1/1 [==============================] - 0s 0s/step - loss: 34.2210 - mean_absolute_error: 5.6560 - mean_squared_error: 34.2210\n",
      "Epoch 19/100\n",
      "1/1 [==============================] - 0s 0s/step - loss: 20.8667 - mean_absolute_error: 4.4921 - mean_squared_error: 20.8667\n",
      "Epoch 20/100\n",
      "1/1 [==============================] - 0s 0s/step - loss: 12.4822 - mean_absolute_error: 3.5169 - mean_squared_error: 12.4822\n",
      "Epoch 21/100\n",
      "1/1 [==============================] - 0s 0s/step - loss: 7.5877 - mean_absolute_error: 2.7313 - mean_squared_error: 7.5877\n",
      "Epoch 22/100\n",
      "1/1 [==============================] - 0s 0s/step - loss: 4.9384 - mean_absolute_error: 2.1241 - mean_squared_error: 4.9384\n",
      "Epoch 23/100\n",
      "1/1 [==============================] - 0s 10ms/step - loss: 3.6122 - mean_absolute_error: 1.6746 - mean_squared_error: 3.6122\n",
      "Epoch 24/100\n",
      "1/1 [==============================] - 0s 0s/step - loss: 2.9954 - mean_absolute_error: 1.4486 - mean_squared_error: 2.9954\n",
      "Epoch 25/100\n",
      "1/1 [==============================] - 0s 10ms/step - loss: 2.7252 - mean_absolute_error: 1.3535 - mean_squared_error: 2.7252\n",
      "Epoch 26/100\n",
      "1/1 [==============================] - 0s 0s/step - loss: 2.6091 - mean_absolute_error: 1.2903 - mean_squared_error: 2.6091\n",
      "Epoch 27/100\n",
      "1/1 [==============================] - 0s 0s/step - loss: 2.5548 - mean_absolute_error: 1.2966 - mean_squared_error: 2.5548\n",
      "Epoch 28/100\n",
      "1/1 [==============================] - 0s 0s/step - loss: 2.5223 - mean_absolute_error: 1.3027 - mean_squared_error: 2.5223\n",
      "Epoch 29/100\n",
      "1/1 [==============================] - 0s 0s/step - loss: 2.4968 - mean_absolute_error: 1.3030 - mean_squared_error: 2.4968\n",
      "Epoch 30/100\n",
      "1/1 [==============================] - 0s 10ms/step - loss: 2.4739 - mean_absolute_error: 1.3005 - mean_squared_error: 2.4739\n",
      "Epoch 31/100\n",
      "1/1 [==============================] - 0s 0s/step - loss: 2.4518 - mean_absolute_error: 1.2965 - mean_squared_error: 2.4518\n",
      "Epoch 32/100\n",
      "1/1 [==============================] - 0s 10ms/step - loss: 2.4290 - mean_absolute_error: 1.2911 - mean_squared_error: 2.4290\n",
      "Epoch 33/100\n",
      "1/1 [==============================] - 0s 0s/step - loss: 2.4063 - mean_absolute_error: 1.2855 - mean_squared_error: 2.4063\n",
      "Epoch 34/100\n",
      "1/1 [==============================] - 0s 10ms/step - loss: 2.3826 - mean_absolute_error: 1.2793 - mean_squared_error: 2.3826\n",
      "Epoch 35/100\n",
      "1/1 [==============================] - 0s 0s/step - loss: 2.3579 - mean_absolute_error: 1.2727 - mean_squared_error: 2.3579\n",
      "Epoch 36/100\n",
      "1/1 [==============================] - 0s 0s/step - loss: 2.3332 - mean_absolute_error: 1.2660 - mean_squared_error: 2.3332\n",
      "Epoch 37/100\n",
      "1/1 [==============================] - 0s 0s/step - loss: 2.3083 - mean_absolute_error: 1.2596 - mean_squared_error: 2.3083\n",
      "Epoch 38/100\n",
      "1/1 [==============================] - 0s 0s/step - loss: 2.2824 - mean_absolute_error: 1.2526 - mean_squared_error: 2.2824\n",
      "Epoch 39/100\n",
      "1/1 [==============================] - 0s 10ms/step - loss: 2.2555 - mean_absolute_error: 1.2452 - mean_squared_error: 2.2555\n",
      "Epoch 40/100\n",
      "1/1 [==============================] - 0s 0s/step - loss: 2.2275 - mean_absolute_error: 1.2374 - mean_squared_error: 2.2275\n",
      "Epoch 41/100\n",
      "1/1 [==============================] - 0s 5ms/step - loss: 2.1985 - mean_absolute_error: 1.2292 - mean_squared_error: 2.1985\n",
      "Epoch 42/100\n",
      "1/1 [==============================] - 0s 5ms/step - loss: 2.1695 - mean_absolute_error: 1.2215 - mean_squared_error: 2.1695\n",
      "Epoch 43/100\n",
      "1/1 [==============================] - 0s 0s/step - loss: 2.1395 - mean_absolute_error: 1.2129 - mean_squared_error: 2.1395\n",
      "Epoch 44/100\n",
      "1/1 [==============================] - 0s 0s/step - loss: 2.1084 - mean_absolute_error: 1.2040 - mean_squared_error: 2.1084\n",
      "Epoch 45/100\n",
      "1/1 [==============================] - 0s 10ms/step - loss: 2.0762 - mean_absolute_error: 1.1947 - mean_squared_error: 2.0762\n",
      "Epoch 46/100\n",
      "1/1 [==============================] - 0s 0s/step - loss: 2.0430 - mean_absolute_error: 1.1851 - mean_squared_error: 2.0430\n",
      "Epoch 47/100\n",
      "1/1 [==============================] - 0s 10ms/step - loss: 2.0088 - mean_absolute_error: 1.1750 - mean_squared_error: 2.0088\n",
      "Epoch 48/100\n",
      "1/1 [==============================] - 0s 0s/step - loss: 1.9735 - mean_absolute_error: 1.1646 - mean_squared_error: 1.9735\n",
      "Epoch 49/100\n",
      "1/1 [==============================] - 0s 0s/step - loss: 1.9372 - mean_absolute_error: 1.1537 - mean_squared_error: 1.9372\n",
      "Epoch 50/100\n",
      "1/1 [==============================] - 0s 0s/step - loss: 1.8999 - mean_absolute_error: 1.1424 - mean_squared_error: 1.8999\n",
      "Epoch 51/100\n",
      "1/1 [==============================] - 0s 4ms/step - loss: 1.8615 - mean_absolute_error: 1.1307 - mean_squared_error: 1.8615\n",
      "Epoch 52/100\n",
      "1/1 [==============================] - 0s 7ms/step - loss: 1.8223 - mean_absolute_error: 1.1186 - mean_squared_error: 1.8223\n",
      "Epoch 53/100\n",
      "1/1 [==============================] - 0s 0s/step - loss: 1.7821 - mean_absolute_error: 1.1061 - mean_squared_error: 1.7821\n",
      "Epoch 54/100\n",
      "1/1 [==============================] - 0s 10ms/step - loss: 1.7410 - mean_absolute_error: 1.0931 - mean_squared_error: 1.7410\n",
      "Epoch 55/100\n",
      "1/1 [==============================] - 0s 0s/step - loss: 1.6993 - mean_absolute_error: 1.0797 - mean_squared_error: 1.6993\n",
      "Epoch 56/100\n",
      "1/1 [==============================] - 0s 10ms/step - loss: 1.6571 - mean_absolute_error: 1.0666 - mean_squared_error: 1.6571\n",
      "Epoch 57/100\n",
      "1/1 [==============================] - 0s 0s/step - loss: 1.6142 - mean_absolute_error: 1.0519 - mean_squared_error: 1.6142\n",
      "Epoch 58/100\n",
      "1/1 [==============================] - 0s 10ms/step - loss: 1.5707 - mean_absolute_error: 1.0381 - mean_squared_error: 1.5707\n",
      "Epoch 59/100\n",
      "1/1 [==============================] - 0s 10ms/step - loss: 1.5265 - mean_absolute_error: 1.0220 - mean_squared_error: 1.5265\n",
      "Epoch 60/100\n",
      "1/1 [==============================] - 0s 0s/step - loss: 1.4817 - mean_absolute_error: 1.0083 - mean_squared_error: 1.4817\n",
      "Epoch 61/100\n",
      "1/1 [==============================] - 0s 10ms/step - loss: 1.4365 - mean_absolute_error: 0.9897 - mean_squared_error: 1.4365\n",
      "Epoch 62/100\n",
      "1/1 [==============================] - 0s 0s/step - loss: 1.3911 - mean_absolute_error: 0.9786 - mean_squared_error: 1.3911\n",
      "Epoch 63/100\n",
      "1/1 [==============================] - 0s 10ms/step - loss: 1.3458 - mean_absolute_error: 0.9521 - mean_squared_error: 1.3458\n",
      "Epoch 64/100\n",
      "1/1 [==============================] - 0s 0s/step - loss: 1.3030 - mean_absolute_error: 0.9560 - mean_squared_error: 1.3030\n",
      "Epoch 65/100\n",
      "1/1 [==============================] - 0s 10ms/step - loss: 1.2764 - mean_absolute_error: 0.9141 - mean_squared_error: 1.2764\n",
      "Epoch 66/100\n",
      "1/1 [==============================] - 0s 0s/step - loss: 1.3594 - mean_absolute_error: 0.9918 - mean_squared_error: 1.3594\n",
      "Epoch 67/100\n",
      "1/1 [==============================] - 0s 0s/step - loss: 2.2363 - mean_absolute_error: 1.4238 - mean_squared_error: 2.2363\n",
      "Epoch 68/100\n",
      "1/1 [==============================] - 0s 0s/step - loss: 7.4329 - mean_absolute_error: 2.2122 - mean_squared_error: 7.4329\n",
      "Epoch 69/100\n",
      "1/1 [==============================] - 0s 4ms/step - loss: 13.4737 - mean_absolute_error: 3.5504 - mean_squared_error: 13.4737\n",
      "Epoch 70/100\n",
      "1/1 [==============================] - 0s 7ms/step - loss: 5.3669 - mean_absolute_error: 1.8946 - mean_squared_error: 5.3669\n",
      "Epoch 71/100\n",
      "1/1 [==============================] - 0s 0s/step - loss: 3.1177 - mean_absolute_error: 1.7416 - mean_squared_error: 3.1177\n",
      "Epoch 72/100\n",
      "1/1 [==============================] - 0s 10ms/step - loss: 1.7299 - mean_absolute_error: 1.1257 - mean_squared_error: 1.7299\n",
      "Epoch 73/100\n",
      "1/1 [==============================] - 0s 0s/step - loss: 1.3652 - mean_absolute_error: 1.0137 - mean_squared_error: 1.3652\n",
      "Epoch 74/100\n",
      "1/1 [==============================] - 0s 0s/step - loss: 1.1718 - mean_absolute_error: 0.9043 - mean_squared_error: 1.1718\n",
      "Epoch 75/100\n",
      "1/1 [==============================] - 0s 0s/step - loss: 1.0931 - mean_absolute_error: 0.8723 - mean_squared_error: 1.0931\n",
      "Epoch 76/100\n",
      "1/1 [==============================] - 0s 0s/step - loss: 1.0439 - mean_absolute_error: 0.8611 - mean_squared_error: 1.0439\n",
      "Epoch 77/100\n",
      "1/1 [==============================] - 0s 10ms/step - loss: 1.0313 - mean_absolute_error: 0.8469 - mean_squared_error: 1.0313\n",
      "Epoch 78/100\n",
      "1/1 [==============================] - 0s 0s/step - loss: 1.0445 - mean_absolute_error: 0.8543 - mean_squared_error: 1.0445\n",
      "Epoch 79/100\n",
      "1/1 [==============================] - 0s 10ms/step - loss: 1.1277 - mean_absolute_error: 0.9161 - mean_squared_error: 1.1277\n",
      "Epoch 80/100\n",
      "1/1 [==============================] - 0s 0s/step - loss: 1.3176 - mean_absolute_error: 0.9791 - mean_squared_error: 1.3176\n",
      "Epoch 81/100\n",
      "1/1 [==============================] - 0s 10ms/step - loss: 1.8157 - mean_absolute_error: 1.3058 - mean_squared_error: 1.8157\n",
      "Epoch 82/100\n",
      "1/1 [==============================] - 0s 0s/step - loss: 2.6912 - mean_absolute_error: 1.3712 - mean_squared_error: 2.6912\n",
      "Epoch 83/100\n",
      "1/1 [==============================] - 0s 0s/step - loss: 4.2525 - mean_absolute_error: 2.0306 - mean_squared_error: 4.2525\n",
      "Epoch 84/100\n",
      "1/1 [==============================] - 0s 0s/step - loss: 4.5877 - mean_absolute_error: 1.7269 - mean_squared_error: 4.5877\n",
      "Epoch 85/100\n",
      "1/1 [==============================] - 0s 0s/step - loss: 4.5802 - mean_absolute_error: 2.1007 - mean_squared_error: 4.5802\n",
      "Epoch 86/100\n",
      "1/1 [==============================] - 0s 0s/step - loss: 2.8983 - mean_absolute_error: 1.4009 - mean_squared_error: 2.8983\n",
      "Epoch 87/100\n",
      "1/1 [==============================] - 0s 4ms/step - loss: 2.2793 - mean_absolute_error: 1.4869 - mean_squared_error: 2.2793\n",
      "Epoch 88/100\n",
      "1/1 [==============================] - 0s 0s/step - loss: 1.6033 - mean_absolute_error: 1.0775 - mean_squared_error: 1.6033\n",
      "Epoch 89/100\n",
      "1/1 [==============================] - 0s 0s/step - loss: 1.3933 - mean_absolute_error: 1.1360 - mean_squared_error: 1.3933\n",
      "Epoch 90/100\n",
      "1/1 [==============================] - 0s 0s/step - loss: 1.2047 - mean_absolute_error: 0.9384 - mean_squared_error: 1.2047\n",
      "Epoch 91/100\n",
      "1/1 [==============================] - 0s 10ms/step - loss: 1.1967 - mean_absolute_error: 1.0409 - mean_squared_error: 1.1967\n",
      "Epoch 92/100\n",
      "1/1 [==============================] - 0s 0s/step - loss: 1.1977 - mean_absolute_error: 0.9341 - mean_squared_error: 1.1977\n",
      "Epoch 93/100\n",
      "1/1 [==============================] - 0s 10ms/step - loss: 1.3605 - mean_absolute_error: 1.1291 - mean_squared_error: 1.3605\n",
      "Epoch 94/100\n",
      "1/1 [==============================] - 0s 0s/step - loss: 1.5459 - mean_absolute_error: 1.0469 - mean_squared_error: 1.5459\n",
      "Epoch 95/100\n",
      "1/1 [==============================] - 0s 10ms/step - loss: 1.9958 - mean_absolute_error: 1.3876 - mean_squared_error: 1.9958\n",
      "Epoch 96/100\n",
      "1/1 [==============================] - 0s 10ms/step - loss: 2.3478 - mean_absolute_error: 1.2457 - mean_squared_error: 2.3478\n",
      "Epoch 97/100\n",
      "1/1 [==============================] - 0s 0s/step - loss: 2.9647 - mean_absolute_error: 1.6844 - mean_squared_error: 2.9647\n",
      "Epoch 98/100\n",
      "1/1 [==============================] - 0s 10ms/step - loss: 2.8655 - mean_absolute_error: 1.3582 - mean_squared_error: 2.8655\n",
      "Epoch 99/100\n",
      "1/1 [==============================] - 0s 0s/step - loss: 2.9684 - mean_absolute_error: 1.6821 - mean_squared_error: 2.9684\n",
      "Epoch 100/100\n",
      "1/1 [==============================] - 0s 0s/step - loss: 2.3189 - mean_absolute_error: 1.2250 - mean_squared_error: 2.3189\n"
     ]
    },
    {
     "data": {
      "text/plain": [
       "<keras.callbacks.History at 0x1d29f7c6400>"
      ]
     },
     "execution_count": 9,
     "metadata": {},
     "output_type": "execute_result"
    }
   ],
   "source": [
    "model.fit(x,y, epochs=100) #Ejecutamos las epocas"
   ]
  },
  {
   "cell_type": "code",
   "execution_count": 10,
   "id": "13f59d48-851b-428f-8fb6-d67014cb4b5e",
   "metadata": {},
   "outputs": [
    {
     "name": "stdout",
     "output_type": "stream",
     "text": [
      "1/1 [==============================] - 0s 121ms/step\n"
     ]
    },
    {
     "data": {
      "text/plain": [
       "array([[59.290367]], dtype=float32)"
      ]
     },
     "execution_count": 10,
     "metadata": {},
     "output_type": "execute_result"
    }
   ],
   "source": [
    "model.predict([48]) # si queremos predecir solo un valor usamos esta linea"
   ]
  },
  {
   "cell_type": "code",
   "execution_count": 11,
   "id": "de49fdb2-9f7d-481d-8659-ce9cf6ffaf06",
   "metadata": {},
   "outputs": [
    {
     "name": "stdout",
     "output_type": "stream",
     "text": [
      "1/1 [==============================] - 0s 150ms/step\n"
     ]
    },
    {
     "data": {
      "text/plain": [
       "[<matplotlib.lines.Line2D at 0x1d2a28de3a0>,\n",
       " <matplotlib.lines.Line2D at 0x1d2a28ebb80>]"
      ]
     },
     "execution_count": 11,
     "metadata": {},
     "output_type": "execute_result"
    },
    {
     "data": {
      "image/png": "[encoded data removed]",
      "text/plain": [
       "<Figure size 432x288 with 1 Axes>"
      ]
     },
     "metadata": {
      "needs_background": "light"
     },
     "output_type": "display_data"
    }
   ],
   "source": [
    "import matplotlib.pyplot as plt\n",
    "plt.plot(x, model.predict(x), 'b*', x,y, 'g.')"
   ]
  }
 ],
 "metadata": {
  "kernelspec": {
   "display_name": "Python 3 (ipykernel)",
   "language": "python",
   "name": "python3"
  },
  "language_info": {
   "codemirror_mode": {
    "name": "ipython",
    "version": 3
   },
   "file_extension": ".py",
   "mimetype": "text/x-python",
   "name": "python",
   "nbconvert_exporter": "python",
   "pygments_lexer": "ipython3",
   "version": "3.9.12"
  }
 },
 "nbformat": 4,
 "nbformat_minor": 5
}
