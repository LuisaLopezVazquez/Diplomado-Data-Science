{
 "cells": [
  {
   "cell_type": "markdown",
   "id": "b00e65db-2db8-4342-996f-3326cc544948",
   "metadata": {},
   "source": [
    "Mi primer programa en python con Jupyter"
   ]
  },
  {
   "cell_type": "code",
   "execution_count": 1,
   "id": "dbda97ae-d88e-4e45-83e8-5be7bdc6de37",
   "metadata": {},
   "outputs": [
    {
     "name": "stdout",
     "output_type": "stream",
     "text": [
      "{'nombre': 'Luisa', 'Edad': 36, 'Telefono': 5511104511, 'Direccion': 'CDMX'}\n"
     ]
    }
   ],
   "source": [
    "datosPersonales={\"nombre\":\"Luisa\", \"Edad\":36, \"Telefono\": 5511104511,\"Direccion\":\"CDMX\"}\n",
    "print(datosPersonales)"
   ]
  },
  {
   "cell_type": "code",
   "execution_count": 2,
   "id": "b2136ffa-1cce-46ec-80ab-7b9d95812a6e",
   "metadata": {},
   "outputs": [],
   "source": [
    "listaFrutas={\"Mango\",\"Manzana\",\"Uva\"}"
   ]
  },
  {
   "cell_type": "code",
   "execution_count": 3,
   "id": "49c2292b-ebb6-4ef9-bf0d-d9768bd90b39",
   "metadata": {},
   "outputs": [
    {
     "data": {
      "text/plain": [
       "{'Mango', 'Manzana', 'Uva'}"
      ]
     },
     "execution_count": 3,
     "metadata": {},
     "output_type": "execute_result"
    }
   ],
   "source": [
    "listaFrutas"
   ]
  },
  {
   "cell_type": "code",
   "execution_count": 4,
   "id": "1b26801d-b3c4-4f53-b68d-43c9bdcc9847",
   "metadata": {},
   "outputs": [],
   "source": [
    "tuplaNumeros=(1,2,3,4,5)"
   ]
  },
  {
   "cell_type": "code",
   "execution_count": 5,
   "id": "06357134-4b9a-4c8d-a63f-82f9e5736fbb",
   "metadata": {},
   "outputs": [
    {
     "data": {
      "text/plain": [
       "(1, 2, 3, 4, 5)"
      ]
     },
     "execution_count": 5,
     "metadata": {},
     "output_type": "execute_result"
    }
   ],
   "source": [
    "tuplaNumeros"
   ]
  },
  {
   "cell_type": "code",
   "execution_count": 6,
   "id": "7cd0b511-2230-4385-95b0-5fc43be28775",
   "metadata": {},
   "outputs": [
    {
     "name": "stdout",
     "output_type": "stream",
     "text": [
      "No alcance cupo\n"
     ]
    }
   ],
   "source": [
    "a=False\n",
    "b=False\n",
    "if(a==True):\n",
    "    print(\"Estoy en el diplomado de ciencia de datos\")\n",
    "else:\n",
    "    print(\"No alcance cupo\")"
   ]
  },
  {
   "cell_type": "code",
   "execution_count": 7,
   "id": "a5bb6b36-ef83-4abd-8e51-61d507894c8e",
   "metadata": {},
   "outputs": [
    {
     "data": {
      "text/plain": [
       "('manzana', 'mango')"
      ]
     },
     "execution_count": 7,
     "metadata": {},
     "output_type": "execute_result"
    }
   ],
   "source": [
    "tupla_frutas=(\"manzana\",\"mango\")\n",
    "tupla_frutas"
   ]
  },
  {
   "cell_type": "code",
   "execution_count": 8,
   "id": "b69f2ea6-e325-4ba8-82f7-99ebc67ec198",
   "metadata": {},
   "outputs": [
    {
     "ename": "TypeError",
     "evalue": "'tuple' object is not callable",
     "output_type": "error",
     "traceback": [
      "\u001b[1;31m---------------------------------------------------------------------------\u001b[0m",
      "\u001b[1;31mTypeError\u001b[0m                                 Traceback (most recent call last)",
      "Input \u001b[1;32mIn [8]\u001b[0m, in \u001b[0;36m<cell line: 1>\u001b[1;34m()\u001b[0m\n\u001b[1;32m----> 1\u001b[0m \u001b[43mtupla_frutas\u001b[49m\u001b[43m(\u001b[49m\u001b[38;5;241;43m0\u001b[39;49m\u001b[43m,\u001b[49m\u001b[38;5;124;43m\"\u001b[39;49m\u001b[38;5;124;43mfresa\u001b[39;49m\u001b[38;5;124;43m\"\u001b[39;49m\u001b[43m)\u001b[49m\n\u001b[0;32m      2\u001b[0m tupla_frutas\n",
      "\u001b[1;31mTypeError\u001b[0m: 'tuple' object is not callable"
     ]
    }
   ],
   "source": [
    "tupla_frutas(0,\"fresa\")\n",
    "tupla_frutas"
   ]
  },
  {
   "cell_type": "code",
   "execution_count": null,
   "id": "18721678-cdb7-4f74-badd-a211c575e8a3",
   "metadata": {},
   "outputs": [],
   "source": []
  }
 ],
 "metadata": {
  "kernelspec": {
   "display_name": "Python 3 (ipykernel)",
   "language": "python",
   "name": "python3"
  },
  "language_info": {
   "codemirror_mode": {
    "name": "ipython",
    "version": 3
   },
   "file_extension": ".py",
   "mimetype": "text/x-python",
   "name": "python",
   "nbconvert_exporter": "python",
   "pygments_lexer": "ipython3",
   "version": "3.9.12"
  }
 },
 "nbformat": 4,
 "nbformat_minor": 5
}
