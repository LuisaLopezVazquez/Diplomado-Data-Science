{
 "cells": [
  {
   "cell_type": "markdown",
   "id": "7b562a33-2043-4d2b-acc7-16318e6cf229",
   "metadata": {},
   "source": [
    "Video de apoyo para introducción a Machine Learning\n",
    "https://www.google.com.mx/search?q=videos+de+introducci%C3%B3n+a+machine+learning+para+ciencia+de+datos&sxsrf=ALiCzsaI8eIa6MRaRCrskHRhc1QyM_YC9A:1673034496198&source=lnms&tbm=vid&sa=X&ved=2ahUKEwj24N6W27P8AhV2HEQIHeTrBIcQ_AUoAXoECAEQAw&biw=1366&bih=657&dpr=1#fpstate=ive&vld=cid:40b117f5,vid:4bZdcuycdwI"
   ]
  },
  {
   "cell_type": "code",
   "execution_count": null,
   "id": "a43c7c56-cb22-4a4b-b636-a9408ea1e57a",
   "metadata": {},
   "outputs": [],
   "source": []
  }
 ],
 "metadata": {
  "kernelspec": {
   "display_name": "Python 3 (ipykernel)",
   "language": "python",
   "name": "python3"
  },
  "language_info": {
   "codemirror_mode": {
    "name": "ipython",
    "version": 3
   },
   "file_extension": ".py",
   "mimetype": "text/x-python",
   "name": "python",
   "nbconvert_exporter": "python",
   "pygments_lexer": "ipython3",
   "version": "3.9.12"
  }
 },
 "nbformat": 4,
 "nbformat_minor": 5
}
